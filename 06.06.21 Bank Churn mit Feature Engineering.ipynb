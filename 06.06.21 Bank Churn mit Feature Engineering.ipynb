{
 "cells": [
  {
   "cell_type": "markdown",
   "metadata": {},
   "source": [
    "# 1) Data Understanding"
   ]
  },
  {
   "cell_type": "code",
   "execution_count": 1,
   "metadata": {},
   "outputs": [],
   "source": [
    "#Alle notwendigen Libarys für das Data Understanding importieren\n",
    "# Hierzu eignet sich pandas zur Datenanalyse \n",
    "\n",
    "import pandas as pd\n",
    "import seaborn as sns\n",
    "import matplotlib.pyplot as plt"
   ]
  },
  {
   "cell_type": "code",
   "execution_count": 2,
   "metadata": {
    "jupyter": {
     "source_hidden": true
    }
   },
   "outputs": [
    {
     "data": {
      "text/plain": [
       "(10000, 14)"
      ]
     },
     "execution_count": 2,
     "metadata": {},
     "output_type": "execute_result"
    }
   ],
   "source": [
    "#Einlesen des Datensets \n",
    "dataset=pd.read_csv(\"Churn_Modelling.csv\")\n",
    "dataset.shape"
   ]
  },
  {
   "cell_type": "code",
   "execution_count": 3,
   "metadata": {},
   "outputs": [
    {
     "data": {
      "text/html": [
       "<div>\n",
       "<style scoped>\n",
       "    .dataframe tbody tr th:only-of-type {\n",
       "        vertical-align: middle;\n",
       "    }\n",
       "\n",
       "    .dataframe tbody tr th {\n",
       "        vertical-align: top;\n",
       "    }\n",
       "\n",
       "    .dataframe thead th {\n",
       "        text-align: right;\n",
       "    }\n",
       "</style>\n",
       "<table border=\"1\" class=\"dataframe\">\n",
       "  <thead>\n",
       "    <tr style=\"text-align: right;\">\n",
       "      <th></th>\n",
       "      <th>RowNumber</th>\n",
       "      <th>CustomerId</th>\n",
       "      <th>Surname</th>\n",
       "      <th>CreditScore</th>\n",
       "      <th>Geography</th>\n",
       "      <th>Gender</th>\n",
       "      <th>Age</th>\n",
       "      <th>Tenure</th>\n",
       "      <th>Balance</th>\n",
       "      <th>NumOfProducts</th>\n",
       "      <th>HasCrCard</th>\n",
       "      <th>IsActiveMember</th>\n",
       "      <th>EstimatedSalary</th>\n",
       "      <th>Exited</th>\n",
       "    </tr>\n",
       "  </thead>\n",
       "  <tbody>\n",
       "    <tr>\n",
       "      <th>0</th>\n",
       "      <td>1</td>\n",
       "      <td>15634602</td>\n",
       "      <td>Hargrave</td>\n",
       "      <td>619</td>\n",
       "      <td>France</td>\n",
       "      <td>Female</td>\n",
       "      <td>42</td>\n",
       "      <td>2</td>\n",
       "      <td>0.00</td>\n",
       "      <td>1</td>\n",
       "      <td>1</td>\n",
       "      <td>1</td>\n",
       "      <td>101348.88</td>\n",
       "      <td>1</td>\n",
       "    </tr>\n",
       "    <tr>\n",
       "      <th>1</th>\n",
       "      <td>2</td>\n",
       "      <td>15647311</td>\n",
       "      <td>Hill</td>\n",
       "      <td>608</td>\n",
       "      <td>Spain</td>\n",
       "      <td>Female</td>\n",
       "      <td>41</td>\n",
       "      <td>1</td>\n",
       "      <td>83807.86</td>\n",
       "      <td>1</td>\n",
       "      <td>0</td>\n",
       "      <td>1</td>\n",
       "      <td>112542.58</td>\n",
       "      <td>0</td>\n",
       "    </tr>\n",
       "    <tr>\n",
       "      <th>2</th>\n",
       "      <td>3</td>\n",
       "      <td>15619304</td>\n",
       "      <td>Onio</td>\n",
       "      <td>502</td>\n",
       "      <td>France</td>\n",
       "      <td>Female</td>\n",
       "      <td>42</td>\n",
       "      <td>8</td>\n",
       "      <td>159660.80</td>\n",
       "      <td>3</td>\n",
       "      <td>1</td>\n",
       "      <td>0</td>\n",
       "      <td>113931.57</td>\n",
       "      <td>1</td>\n",
       "    </tr>\n",
       "    <tr>\n",
       "      <th>3</th>\n",
       "      <td>4</td>\n",
       "      <td>15701354</td>\n",
       "      <td>Boni</td>\n",
       "      <td>699</td>\n",
       "      <td>France</td>\n",
       "      <td>Female</td>\n",
       "      <td>39</td>\n",
       "      <td>1</td>\n",
       "      <td>0.00</td>\n",
       "      <td>2</td>\n",
       "      <td>0</td>\n",
       "      <td>0</td>\n",
       "      <td>93826.63</td>\n",
       "      <td>0</td>\n",
       "    </tr>\n",
       "    <tr>\n",
       "      <th>4</th>\n",
       "      <td>5</td>\n",
       "      <td>15737888</td>\n",
       "      <td>Mitchell</td>\n",
       "      <td>850</td>\n",
       "      <td>Spain</td>\n",
       "      <td>Female</td>\n",
       "      <td>43</td>\n",
       "      <td>2</td>\n",
       "      <td>125510.82</td>\n",
       "      <td>1</td>\n",
       "      <td>1</td>\n",
       "      <td>1</td>\n",
       "      <td>79084.10</td>\n",
       "      <td>0</td>\n",
       "    </tr>\n",
       "    <tr>\n",
       "      <th>5</th>\n",
       "      <td>6</td>\n",
       "      <td>15574012</td>\n",
       "      <td>Chu</td>\n",
       "      <td>645</td>\n",
       "      <td>Spain</td>\n",
       "      <td>Male</td>\n",
       "      <td>44</td>\n",
       "      <td>8</td>\n",
       "      <td>113755.78</td>\n",
       "      <td>2</td>\n",
       "      <td>1</td>\n",
       "      <td>0</td>\n",
       "      <td>149756.71</td>\n",
       "      <td>1</td>\n",
       "    </tr>\n",
       "    <tr>\n",
       "      <th>6</th>\n",
       "      <td>7</td>\n",
       "      <td>15592531</td>\n",
       "      <td>Bartlett</td>\n",
       "      <td>822</td>\n",
       "      <td>France</td>\n",
       "      <td>Male</td>\n",
       "      <td>50</td>\n",
       "      <td>7</td>\n",
       "      <td>0.00</td>\n",
       "      <td>2</td>\n",
       "      <td>1</td>\n",
       "      <td>1</td>\n",
       "      <td>10062.80</td>\n",
       "      <td>0</td>\n",
       "    </tr>\n",
       "    <tr>\n",
       "      <th>7</th>\n",
       "      <td>8</td>\n",
       "      <td>15656148</td>\n",
       "      <td>Obinna</td>\n",
       "      <td>376</td>\n",
       "      <td>Germany</td>\n",
       "      <td>Female</td>\n",
       "      <td>29</td>\n",
       "      <td>4</td>\n",
       "      <td>115046.74</td>\n",
       "      <td>4</td>\n",
       "      <td>1</td>\n",
       "      <td>0</td>\n",
       "      <td>119346.88</td>\n",
       "      <td>1</td>\n",
       "    </tr>\n",
       "    <tr>\n",
       "      <th>8</th>\n",
       "      <td>9</td>\n",
       "      <td>15792365</td>\n",
       "      <td>He</td>\n",
       "      <td>501</td>\n",
       "      <td>France</td>\n",
       "      <td>Male</td>\n",
       "      <td>44</td>\n",
       "      <td>4</td>\n",
       "      <td>142051.07</td>\n",
       "      <td>2</td>\n",
       "      <td>0</td>\n",
       "      <td>1</td>\n",
       "      <td>74940.50</td>\n",
       "      <td>0</td>\n",
       "    </tr>\n",
       "    <tr>\n",
       "      <th>9</th>\n",
       "      <td>10</td>\n",
       "      <td>15592389</td>\n",
       "      <td>H?</td>\n",
       "      <td>684</td>\n",
       "      <td>France</td>\n",
       "      <td>Male</td>\n",
       "      <td>27</td>\n",
       "      <td>2</td>\n",
       "      <td>134603.88</td>\n",
       "      <td>1</td>\n",
       "      <td>1</td>\n",
       "      <td>1</td>\n",
       "      <td>71725.73</td>\n",
       "      <td>0</td>\n",
       "    </tr>\n",
       "  </tbody>\n",
       "</table>\n",
       "</div>"
      ],
      "text/plain": [
       "   RowNumber  CustomerId   Surname  CreditScore Geography  Gender  Age  \\\n",
       "0          1    15634602  Hargrave          619    France  Female   42   \n",
       "1          2    15647311      Hill          608     Spain  Female   41   \n",
       "2          3    15619304      Onio          502    France  Female   42   \n",
       "3          4    15701354      Boni          699    France  Female   39   \n",
       "4          5    15737888  Mitchell          850     Spain  Female   43   \n",
       "5          6    15574012       Chu          645     Spain    Male   44   \n",
       "6          7    15592531  Bartlett          822    France    Male   50   \n",
       "7          8    15656148    Obinna          376   Germany  Female   29   \n",
       "8          9    15792365        He          501    France    Male   44   \n",
       "9         10    15592389        H?          684    France    Male   27   \n",
       "\n",
       "   Tenure    Balance  NumOfProducts  HasCrCard  IsActiveMember  \\\n",
       "0       2       0.00              1          1               1   \n",
       "1       1   83807.86              1          0               1   \n",
       "2       8  159660.80              3          1               0   \n",
       "3       1       0.00              2          0               0   \n",
       "4       2  125510.82              1          1               1   \n",
       "5       8  113755.78              2          1               0   \n",
       "6       7       0.00              2          1               1   \n",
       "7       4  115046.74              4          1               0   \n",
       "8       4  142051.07              2          0               1   \n",
       "9       2  134603.88              1          1               1   \n",
       "\n",
       "   EstimatedSalary  Exited  \n",
       "0        101348.88       1  \n",
       "1        112542.58       0  \n",
       "2        113931.57       1  \n",
       "3         93826.63       0  \n",
       "4         79084.10       0  \n",
       "5        149756.71       1  \n",
       "6         10062.80       0  \n",
       "7        119346.88       1  \n",
       "8         74940.50       0  \n",
       "9         71725.73       0  "
      ]
     },
     "execution_count": 3,
     "metadata": {},
     "output_type": "execute_result"
    }
   ],
   "source": [
    "#Um einen ersten Einblick zu bekommen, lassen wir uns die ersten 10 Spalten des Datensets ausgeben\n",
    "dataset.head(10)"
   ]
  },
  {
   "cell_type": "code",
   "execution_count": 4,
   "metadata": {
    "jupyter": {
     "source_hidden": true
    }
   },
   "outputs": [
    {
     "data": {
      "text/html": [
       "<div>\n",
       "<style scoped>\n",
       "    .dataframe tbody tr th:only-of-type {\n",
       "        vertical-align: middle;\n",
       "    }\n",
       "\n",
       "    .dataframe tbody tr th {\n",
       "        vertical-align: top;\n",
       "    }\n",
       "\n",
       "    .dataframe thead th {\n",
       "        text-align: right;\n",
       "    }\n",
       "</style>\n",
       "<table border=\"1\" class=\"dataframe\">\n",
       "  <thead>\n",
       "    <tr style=\"text-align: right;\">\n",
       "      <th></th>\n",
       "      <th>RowNumber</th>\n",
       "      <th>CustomerId</th>\n",
       "      <th>Surname</th>\n",
       "      <th>CreditScore</th>\n",
       "      <th>Geography</th>\n",
       "      <th>Gender</th>\n",
       "      <th>Age</th>\n",
       "      <th>Tenure</th>\n",
       "      <th>Balance</th>\n",
       "      <th>NumOfProducts</th>\n",
       "      <th>HasCrCard</th>\n",
       "      <th>IsActiveMember</th>\n",
       "      <th>EstimatedSalary</th>\n",
       "      <th>Exited</th>\n",
       "    </tr>\n",
       "  </thead>\n",
       "  <tbody>\n",
       "    <tr>\n",
       "      <th>9</th>\n",
       "      <td>10</td>\n",
       "      <td>15592389</td>\n",
       "      <td>H?</td>\n",
       "      <td>684</td>\n",
       "      <td>France</td>\n",
       "      <td>Male</td>\n",
       "      <td>27</td>\n",
       "      <td>2</td>\n",
       "      <td>134603.88</td>\n",
       "      <td>1</td>\n",
       "      <td>1</td>\n",
       "      <td>1</td>\n",
       "      <td>71725.73</td>\n",
       "      <td>0</td>\n",
       "    </tr>\n",
       "  </tbody>\n",
       "</table>\n",
       "</div>"
      ],
      "text/plain": [
       "   RowNumber  CustomerId Surname  CreditScore Geography Gender  Age  Tenure  \\\n",
       "9         10    15592389      H?          684    France   Male   27       2   \n",
       "\n",
       "     Balance  NumOfProducts  HasCrCard  IsActiveMember  EstimatedSalary  \\\n",
       "9  134603.88              1          1               1         71725.73   \n",
       "\n",
       "   Exited  \n",
       "9       0  "
      ]
     },
     "execution_count": 4,
     "metadata": {},
     "output_type": "execute_result"
    }
   ],
   "source": [
    "#Man hat bereits im Output von line 17 gesehen, dass der Customer mit der RowNumber 10 den Namen H? hat, was keinen Sinn ergibt\n",
    "#Dem muss man sich später im Step \"Data Cleaning widmen\"\n",
    "dataset[9:10]"
   ]
  },
  {
   "cell_type": "code",
   "execution_count": 5,
   "metadata": {
    "jupyter": {
     "source_hidden": true
    }
   },
   "outputs": [
    {
     "data": {
      "text/plain": [
       "RowNumber          0\n",
       "CustomerId         0\n",
       "Surname            0\n",
       "CreditScore        0\n",
       "Geography          0\n",
       "Gender             0\n",
       "Age                0\n",
       "Tenure             0\n",
       "Balance            0\n",
       "NumOfProducts      0\n",
       "HasCrCard          0\n",
       "IsActiveMember     0\n",
       "EstimatedSalary    0\n",
       "Exited             0\n",
       "dtype: int64"
      ]
     },
     "execution_count": 5,
     "metadata": {},
     "output_type": "execute_result"
    }
   ],
   "source": [
    "#Schauen ob in einer Reihe (column) Werte fehlen\n",
    "dataset.isnull().sum()"
   ]
  },
  {
   "cell_type": "code",
   "execution_count": 6,
   "metadata": {
    "jupyter": {
     "source_hidden": true
    }
   },
   "outputs": [
    {
     "data": {
      "text/plain": [
       "RowNumber          10000\n",
       "CustomerId         10000\n",
       "Surname             2932\n",
       "CreditScore          460\n",
       "Geography              3\n",
       "Gender                 2\n",
       "Age                   70\n",
       "Tenure                11\n",
       "Balance             6382\n",
       "NumOfProducts          4\n",
       "HasCrCard              2\n",
       "IsActiveMember         2\n",
       "EstimatedSalary     9999\n",
       "Exited                 2\n",
       "dtype: int64"
      ]
     },
     "execution_count": 6,
     "metadata": {},
     "output_type": "execute_result"
    }
   ],
   "source": [
    "#Wir lassen uns für das Verständnis die \"unique variables\" jeder Spalte ausgeben\n",
    "dataset.nunique()"
   ]
  },
  {
   "cell_type": "code",
   "execution_count": 7,
   "metadata": {
    "jupyter": {
     "source_hidden": true
    }
   },
   "outputs": [
    {
     "data": {
      "text/plain": [
       "RowNumber            int64\n",
       "CustomerId           int64\n",
       "Surname             object\n",
       "CreditScore          int64\n",
       "Geography           object\n",
       "Gender              object\n",
       "Age                  int64\n",
       "Tenure               int64\n",
       "Balance            float64\n",
       "NumOfProducts        int64\n",
       "HasCrCard            int64\n",
       "IsActiveMember       int64\n",
       "EstimatedSalary    float64\n",
       "Exited               int64\n",
       "dtype: object"
      ]
     },
     "execution_count": 7,
     "metadata": {},
     "output_type": "execute_result"
    }
   ],
   "source": [
    "dataset.dtypes"
   ]
  },
  {
   "cell_type": "markdown",
   "metadata": {},
   "source": [
    "## <font color='red'>Erkentnisse </font>\n",
    "1. Das Datenset hat 10.000 Spalten (Rows) und 14 Reihen (Attributes)\n",
    "2. Im Datenset fehlt in keiner Reihe (column) ein Eintrag\n",
    "3. Es kann sein dass in der Reihe \"Surname\" einige Namen fehlerhaft sind (siehe Output line 25, mit dem Surname \"H?\"). Dem muss man sich später im Schritt \"Data Cleaning widmen\".\n",
    "4. In Output line 7 sehen wir, dass wir Hauptsächlich kategorische Variablen haben und 5 kontinuierliche Variablen \n",
    "\n",
    "## <font color='blue'>Fragen </font>\n",
    "1. Manche Kunden, welche die Bank verlassen haben, (Churn == 1) haben immer noch einen Wert in der Column \"Balance\". Was bedeutet das?\n",
    "2. Was genau bedeutet es ein aktives Mitglied zu sein und wie wird das bewertet? \n",
    "3. Mehr infos über die Column \"NumofProducts\" bzw. über die Produkte selbst würden bessere Informationen bereitstellen."
   ]
  },
  {
   "cell_type": "markdown",
   "metadata": {},
   "source": [
    "># 2) Data Preparation & Preprocessing"
   ]
  },
  {
   "cell_type": "markdown",
   "metadata": {},
   "source": [
    "### a.) Data Visualization & Exploratary Data Analysis"
   ]
  },
  {
   "cell_type": "code",
   "execution_count": 8,
   "metadata": {},
   "outputs": [
    {
     "data": {
      "text/plain": [
       "0    7963\n",
       "1    2037\n",
       "Name: Exited, dtype: int64"
      ]
     },
     "execution_count": 8,
     "metadata": {},
     "output_type": "execute_result"
    }
   ],
   "source": [
    "dataset.Exited.value_counts()"
   ]
  },
  {
   "cell_type": "code",
   "execution_count": 9,
   "metadata": {},
   "outputs": [],
   "source": [
    "data = {\"Attribute\":[\"Verlassen\", \"Nicht Verlassen\"],\n",
    "        \"Anzahl\":[2037,7963]\n",
    "        };\n",
    "\n",
    "df = pd.DataFrame(data=data);"
   ]
  },
  {
   "cell_type": "code",
   "execution_count": 10,
   "metadata": {},
   "outputs": [
    {
     "data": {
      "image/png": "[encoded data removed]",
      "text/plain": [
       "<Figure size 432x288 with 1 Axes>"
      ]
     },
     "metadata": {
      "needs_background": "light"
     },
     "output_type": "display_data"
    }
   ],
   "source": [
    "#Visualisierung der Ausprägungen der Column \"Exited\"\n",
    "df.plot.bar(x=\"Attribute\", y=\"Anzahl\", rot=0, title=\"Churn vs No_Churn\");"
   ]
  },
  {
   "cell_type": "code",
   "execution_count": 11,
   "metadata": {},
   "outputs": [
    {
     "data": {
      "text/plain": [
       "<AxesSubplot:xlabel='IsActiveMember', ylabel='count'>"
      ]
     },
     "execution_count": 11,
     "metadata": {},
     "output_type": "execute_result"
    },
    {
     "data": {
      "image/png": "[encoded data removed]",
      "text/plain": [
       "<Figure size 1440x864 with 4 Axes>"
      ]
     },
     "metadata": {
      "needs_background": "light"
     },
     "output_type": "display_data"
    }
   ],
   "source": [
    "#Visualisierung der kategorischen Variablen Geogrphy, Gender, HasCrCard (Credit Card), IsActiveMember in Abhängigkeit davon, \n",
    "#ob die Personen die Bank verlassen haben oder nicht \n",
    "\n",
    "fig, axarr = plt.subplots(2, 2, figsize=(20, 12))\n",
    "\n",
    "sns.countplot(x='Geography', hue = 'Exited',data = dataset, ax=axarr[0][0])\n",
    "sns.countplot(x='Gender', hue = 'Exited',data = dataset, ax=axarr[0][1])\n",
    "sns.countplot(x='HasCrCard', hue = 'Exited',data = dataset, ax=axarr[1][0])\n",
    "sns.countplot(x='IsActiveMember', hue = 'Exited',data = dataset, ax=axarr[1][1])"
   ]
  },
  {
   "cell_type": "code",
   "execution_count": 12,
   "metadata": {},
   "outputs": [
    {
     "data": {
      "text/plain": [
       "<AxesSubplot:xlabel='Exited', ylabel='EstimatedSalary'>"
      ]
     },
     "execution_count": 12,
     "metadata": {},
     "output_type": "execute_result"
    },
    {
     "data": {
      "image/png": "[encoded data removed]",
      "text/plain": [
       "<Figure size 1440x864 with 6 Axes>"
      ]
     },
     "metadata": {
      "needs_background": "light"
     },
     "output_type": "display_data"
    }
   ],
   "source": [
    "#Visualisierung der kontunuierlichen Variablen in Abhängigkeit davon, \n",
    "#ob die Personen die Bank verlassen haben oder nicht \n",
    "\n",
    "fig, axarr = plt.subplots(3, 2, figsize=(20, 12))\n",
    "\n",
    "sns.boxplot(y='CreditScore',x = 'Exited', hue = 'Exited',data = dataset, ax=axarr[0][0])\n",
    "sns.boxplot(y='Age',x = 'Exited', hue = 'Exited',data = dataset , ax=axarr[0][1])\n",
    "sns.boxplot(y='Tenure',x = 'Exited', hue = 'Exited',data = dataset, ax=axarr[1][0])\n",
    "sns.boxplot(y='Balance',x = 'Exited', hue = 'Exited',data = dataset, ax=axarr[1][1])\n",
    "sns.boxplot(y='NumOfProducts',x = 'Exited', hue = 'Exited',data = dataset, ax=axarr[2][0])\n",
    "sns.boxplot(y='EstimatedSalary',x = 'Exited', hue = 'Exited',data = dataset, ax=axarr[2][1])"
   ]
  },
  {
   "cell_type": "markdown",
   "metadata": {},
   "source": [
    "## <font color='red'>Erste Erkentnisse </font>\n",
    "1. Man kann anhand Output line 28 an der Bar Chart erkennen, dass c.a. 20% aller erfassten Kunden im Datenset die Bank verlassen haben\n",
    "2. Das Dataset ist <b>imbalanced</b> zugunsten der Ausprägung \"Exited\" == 0 (Kunde hat die Bank nicht verlassen). Es herrscht ein Verhältnis von fast 4:1 für diese Ausprägung. Um später nicht den Klassifikator damit zu beeinflussen, muss man später für ein <b>Balanced Dataset</b> sorgen.\n",
    "\n",
    "\n",
    "## <font color='red'>Erkentnisse aus den Kategorischen Variablen </font>\n",
    "1. Ein Großteil der Erfassten Kunden kommt aus Frankreich und Deutsche Kunden verlassen die Bank am wahrscheinlichsten (in Relation)\n",
    "2. Frauen verlassen diese Bank häufiger als Männer.\n",
    "3. Ein Großteil der Kunden, die die Bank verlassen haben, haben/ hatten eine Kreditkarte. Allerdings ist das Churn-Verhältnis zu den Kunden ohne Kreditkarte ähnlich.\n",
    "4. Mitglieder, welche als nicht aktive Mitglieder gekennzeichnet wurden, haben eine höhere \"Churn-Rate\", wie aktive Member. Allerdings fällt auf, dass die Gesamtanzahl inaktiver Member ziemlich hoch ist.\n",
    "\n",
    "\n",
    "## <font color='red'>Erkentnisse aus den kontinuerlichen Variablen </font>\n",
    "1. Die Columns \"CreditScore\", \"Number of Products\" & \"EstimatedSalary\" also die Kreditwürdigkeit, Anzahl der Bankprodukte & das Geschätzte Gehalt haben auf den ersten Blick keine signifikante Auswirkung darauf, ob ein Kunde die Bank verlässt oder nicht.\n",
    "2. Ältere Kunden verlassen häufiger/ eher die Bank als Jüngere Kunden. Das lässt sich vermutlich auf die unterschiedlichen Ansprüche im Service zurückführen. Die Bank sollte hier eventuell ihre Strategie mit verschiedenen Altersgruppen überdenken.\n",
    "3. Tenure = Zeit die mit der Bank verbracht wurde als Kunde. Generell kann man keinen signifikanten Einfluss dieser Column auf die Variable Exited == 1 feststellen. Es fällt auf, dass Kunden welche (sehr) lange, oder (sehr) wenig Zeit mit der Bank verbracht haben eher die Bank verlassen.\n",
    "4. Kunden mit mehr Bankguthaben (Balance) verlassen eher die Bank\n"
   ]
  },
  {
   "cell_type": "markdown",
   "metadata": {},
   "source": [
    "### b.) Generelles Feature Engineering & Data Cleaning"
   ]
  },
  {
   "cell_type": "markdown",
   "metadata": {},
   "source": [
    "Die Columns <b>Row Number, Customer ID, Surname</b> sind für uns nicht relevant, da sie keinen Einfluss darauf haben, ob ein Kunde kündigt oder nicht. Deshalb entfernen wir diese aus dem Datenset."
   ]
  },
  {
   "cell_type": "code",
   "execution_count": 13,
   "metadata": {},
   "outputs": [],
   "source": [
    "data = dataset.drop([\"RowNumber\",\"CustomerId\",\"Surname\"], axis=1)"
   ]
  },
  {
   "cell_type": "markdown",
   "metadata": {},
   "source": [
    "Bevor wir die Columns \"CreditScore\", \"Number of Products\" & \"EstimatedSalary\" komplett entfernen, weil wir sie bei den Erkenntnissen als nicht signifikant empfinden, schauen wir uns diese \n",
    "Columns nochmal genauer an. Im nächsten Schritt prüfen wir alle kategorischen und kontinuierlichen Variablen auf Signifikanz. Dafür verwenden wir für die kategorischen Variablen den\n",
    "<b>Chi Squared Test</b> und für die kontinuierlichen Variablen den <b>T-Test</b>"
   ]
  },
  {
   "cell_type": "code",
   "execution_count": 14,
   "metadata": {},
   "outputs": [],
   "source": [
    "#aufteilen der Daten in kontinuierlich und kategorisch \n",
    "\n",
    "categorical_var = ['Geography', 'Gender', 'HasCrCard', 'IsActiveMember']\n",
    "continious_var = ['CreditScore', 'Age', 'Tenure', 'Balance', 'NumOfProducts', 'EstimatedSalary']"
   ]
  },
  {
   "cell_type": "code",
   "execution_count": 15,
   "metadata": {
    "jupyter": {
     "source_hidden": true
    }
   },
   "outputs": [
    {
     "name": "stdout",
     "output_type": "stream",
     "text": [
      "Geography is IMPORTANT for Prediction\n",
      "3.830317605354266e-66\n",
      "Gender is IMPORTANT for Prediction\n",
      "2.2482100097131755e-26\n",
      "HasCrCard is NOT an important predictor. (Discard HasCrCard from model)\n",
      "0.49237236141554686\n",
      "IsActiveMember is IMPORTANT for Prediction\n",
      "8.785858269303703e-55\n"
     ]
    }
   ],
   "source": [
    "#chisquare test für kategorische Daten um unrelevante variablen/ features zu finden\n",
    "import scipy.stats as stats\n",
    "from scipy.stats import chi2_contingency\n",
    "\n",
    "class ChiSquare:\n",
    "    def __init__(self, dataframe):\n",
    "        self.df = dataframe\n",
    "        self.p = None #P-Value\n",
    "        self.chi2 = None #Chi Test Statistic\n",
    "        self.dof = None\n",
    "        \n",
    "        self.dfObserved = None\n",
    "        self.dfExpected = None\n",
    "        \n",
    "    def _print_chisquare_result(self, colX, alpha):\n",
    "        result = \"\"\n",
    "        if self.p<alpha:\n",
    "            result=\"{0} is IMPORTANT for Prediction\".format(colX)\n",
    "        else:\n",
    "            result=\"{0} is NOT an important predictor. (Discard {0} from model)\".format(colX)\n",
    "\n",
    "        print(result)\n",
    "        \n",
    "    def TestIndependence(self,colX,colY, alpha=0.05):\n",
    "        X = self.df[colX].astype(str)\n",
    "        Y = self.df[colY].astype(str)\n",
    "        \n",
    "        self.dfObserved = pd.crosstab(Y,X) \n",
    "        chi2, p, dof, expected = stats.chi2_contingency(self.dfObserved.values)\n",
    "        self.p = p\n",
    "        self.chi2 = chi2\n",
    "        self.dof = dof \n",
    "        \n",
    "        self.dfExpected = pd.DataFrame(expected, columns=self.dfObserved.columns, index = self.dfObserved.index)\n",
    "        \n",
    "        self._print_chisquare_result(colX,alpha)\n",
    "\n",
    "df = data\n",
    "#Initialize ChiSquare Class\n",
    "cT = ChiSquare(df)\n",
    "\n",
    "#Feature Selection\n",
    "for var in categorical_var:\n",
    "    cT.TestIndependence(colX=var,colY=\"Exited\" ) \n",
    "    print(cT.p)"
   ]
  },
  {
   "cell_type": "code",
   "execution_count": 16,
   "metadata": {
    "jupyter": {
     "source_hidden": true
    }
   },
   "outputs": [
    {
     "name": "stdout",
     "output_type": "stream",
     "text": [
      "CreditScore\n",
      "Ttest_indResult(statistic=2.634660543657579, pvalue=0.008464728991832877)\n",
      "Age\n",
      "Ttest_indResult(statistic=-30.41919720440679, pvalue=4.7127272656641046e-179)\n",
      "Tenure\n",
      "Ttest_indResult(statistic=1.384328819131246, pvalue=0.16635698992884443)\n",
      "Balance\n",
      "Ttest_indResult(statistic=-12.47128032005069, pvalue=6.318663518527793e-35)\n",
      "NumOfProducts\n",
      "Ttest_indResult(statistic=3.701997887883855, pvalue=0.00021858494460549394)\n",
      "EstimatedSalary\n",
      "Ttest_indResult(statistic=-1.203368319658624, pvalue=0.22892461305145803)\n"
     ]
    }
   ],
   "source": [
    "from sklearn.feature_selection import SelectKBest\n",
    "from scipy.stats import ttest_ind\n",
    "\n",
    "t_stat = []\n",
    "for var in continious_var:\n",
    "    var_no_churn = data[var][data[\"Exited\"] == 0]\n",
    "    var_yes_churn = data[var][data[\"Exited\"] == 1]\n",
    "    t_value = ttest_ind(var_no_churn, var_yes_churn, equal_var=False)\n",
    "    print(var)\n",
    "    print(t_value)\n",
    "    #t_stat.append(t_value)"
   ]
  },
  {
   "cell_type": "markdown",
   "metadata": {},
   "source": [
    "## <font color='red'>Erkentnisse aus dem Generellen Feature-Engineering </font>\n",
    "1. Aus den kategorischen Variablen sind die Colums <b>\"Geogrpahy\", \"Gender\" und \"IsActiveMember\"</b> für den weiteren Verlauf wichtig.\n",
    "2. Die Column \"HasCrCard\" (Ob der Kunde eine Kreditkarte besitzt) wird vom Chi-Squared Test als nicht signifikant wichtig betrachtet.\n",
    "3. Aus den kontinuierlichen Variablen sind die Colums <b>\"CreditScore\", \"Age\", \"Balance\", \"NumOfProducts\"</b> für den weiteren Verlauf wichtig.\n",
    "4. Die Columns \"Tenure\" (Zugehörigkeit zur Bank in Jahren) und \"EstimatedSalary\" (Geschätztes Gehalt) sind laut des T-Tests nicht relevant.\n"
   ]
  },
  {
   "cell_type": "code",
   "execution_count": 17,
   "metadata": {},
   "outputs": [],
   "source": [
    "# p-value>0.05 nicht relevant, 0-Hypothese kann abgelehnt werden aufgrund zu hoher Fehleranfälligkeit "
   ]
  },
  {
   "cell_type": "markdown",
   "metadata": {},
   "source": [
    "# 3) Modeling"
   ]
  },
  {
   "cell_type": "markdown",
   "metadata": {},
   "source": [
    "## <font color='red'>Als nächstes wird der Datensatz für das Training der Modelle vorbereitet </font>\n",
    "1. Die als unrelevant festgestellten Features werden aus dem Datensatz entfernt"
   ]
  },
  {
   "cell_type": "code",
   "execution_count": 18,
   "metadata": {},
   "outputs": [
    {
     "data": {
      "text/plain": [
       "0       101348.88\n",
       "1       112542.58\n",
       "2       113931.57\n",
       "3        93826.63\n",
       "4        79084.10\n",
       "          ...    \n",
       "9995     96270.64\n",
       "9996    101699.77\n",
       "9997     42085.58\n",
       "9998     92888.52\n",
       "9999     38190.78\n",
       "Name: EstimatedSalary, Length: 10000, dtype: float64"
      ]
     },
     "execution_count": 18,
     "metadata": {},
     "output_type": "execute_result"
    }
   ],
   "source": [
    "#dataset_pop basiert auf dem Ursprünglichen Datensatz. Allerdings werden hieraus einige Features ,die als nicht relevant erachtet\n",
    "#werden, enfernt.\n",
    "dataset_pop = dataset\n",
    "\n",
    "#Row Number wird entfernt, da diese Zeile nichts relevantes enthält\n",
    "dataset_pop.pop(\"RowNumber\")\n",
    "\n",
    "#CustomerId wird enfernt, da sie eine zufällig erzeugte Nummer ist und deshalb keine relevanz für unser Model besitzt\n",
    "dataset_pop.pop(\"CustomerId\")\n",
    "\n",
    "#Surname wird entfernt, da der Vorname sich nicht für dummie-variablen eignet und sehr wahrscheinlich keinen Einfluss auf das\n",
    "#Ergebnis des Models hat.\n",
    "dataset_pop.pop(\"Surname\")\n",
    "\n",
    "#der Chi-Squared Test hat ergeben, dass HasCrCard nicht signifikant ist, deshalb wird das Feature entfernt\n",
    "dataset_pop.pop(\"HasCrCard\")\n",
    "\n",
    "#der T-Test hat ergeben, dass Tenure nicht signifikant ist, deshalb wird das Feature entfernt\n",
    "dataset_pop.pop(\"Tenure\")\n",
    "\n",
    "#der T-Test hat ergeben, dass EstimatedSalary nicht signifikant ist, deshalb wird das Feature entfernt\n",
    "dataset_pop.pop(\"EstimatedSalary\")"
   ]
  },
  {
   "cell_type": "code",
   "execution_count": 19,
   "metadata": {},
   "outputs": [
    {
     "data": {
      "text/html": [
       "<div>\n",
       "<style scoped>\n",
       "    .dataframe tbody tr th:only-of-type {\n",
       "        vertical-align: middle;\n",
       "    }\n",
       "\n",
       "    .dataframe tbody tr th {\n",
       "        vertical-align: top;\n",
       "    }\n",
       "\n",
       "    .dataframe thead th {\n",
       "        text-align: right;\n",
       "    }\n",
       "</style>\n",
       "<table border=\"1\" class=\"dataframe\">\n",
       "  <thead>\n",
       "    <tr style=\"text-align: right;\">\n",
       "      <th></th>\n",
       "      <th>CreditScore</th>\n",
       "      <th>Geography</th>\n",
       "      <th>Gender</th>\n",
       "      <th>Age</th>\n",
       "      <th>Balance</th>\n",
       "      <th>NumOfProducts</th>\n",
       "      <th>IsActiveMember</th>\n",
       "      <th>Exited</th>\n",
       "    </tr>\n",
       "  </thead>\n",
       "  <tbody>\n",
       "    <tr>\n",
       "      <th>0</th>\n",
       "      <td>619</td>\n",
       "      <td>France</td>\n",
       "      <td>Female</td>\n",
       "      <td>42</td>\n",
       "      <td>0.00</td>\n",
       "      <td>1</td>\n",
       "      <td>1</td>\n",
       "      <td>1</td>\n",
       "    </tr>\n",
       "    <tr>\n",
       "      <th>1</th>\n",
       "      <td>608</td>\n",
       "      <td>Spain</td>\n",
       "      <td>Female</td>\n",
       "      <td>41</td>\n",
       "      <td>83807.86</td>\n",
       "      <td>1</td>\n",
       "      <td>1</td>\n",
       "      <td>0</td>\n",
       "    </tr>\n",
       "    <tr>\n",
       "      <th>2</th>\n",
       "      <td>502</td>\n",
       "      <td>France</td>\n",
       "      <td>Female</td>\n",
       "      <td>42</td>\n",
       "      <td>159660.80</td>\n",
       "      <td>3</td>\n",
       "      <td>0</td>\n",
       "      <td>1</td>\n",
       "    </tr>\n",
       "    <tr>\n",
       "      <th>3</th>\n",
       "      <td>699</td>\n",
       "      <td>France</td>\n",
       "      <td>Female</td>\n",
       "      <td>39</td>\n",
       "      <td>0.00</td>\n",
       "      <td>2</td>\n",
       "      <td>0</td>\n",
       "      <td>0</td>\n",
       "    </tr>\n",
       "    <tr>\n",
       "      <th>4</th>\n",
       "      <td>850</td>\n",
       "      <td>Spain</td>\n",
       "      <td>Female</td>\n",
       "      <td>43</td>\n",
       "      <td>125510.82</td>\n",
       "      <td>1</td>\n",
       "      <td>1</td>\n",
       "      <td>0</td>\n",
       "    </tr>\n",
       "    <tr>\n",
       "      <th>...</th>\n",
       "      <td>...</td>\n",
       "      <td>...</td>\n",
       "      <td>...</td>\n",
       "      <td>...</td>\n",
       "      <td>...</td>\n",
       "      <td>...</td>\n",
       "      <td>...</td>\n",
       "      <td>...</td>\n",
       "    </tr>\n",
       "    <tr>\n",
       "      <th>9995</th>\n",
       "      <td>771</td>\n",
       "      <td>France</td>\n",
       "      <td>Male</td>\n",
       "      <td>39</td>\n",
       "      <td>0.00</td>\n",
       "      <td>2</td>\n",
       "      <td>0</td>\n",
       "      <td>0</td>\n",
       "    </tr>\n",
       "    <tr>\n",
       "      <th>9996</th>\n",
       "      <td>516</td>\n",
       "      <td>France</td>\n",
       "      <td>Male</td>\n",
       "      <td>35</td>\n",
       "      <td>57369.61</td>\n",
       "      <td>1</td>\n",
       "      <td>1</td>\n",
       "      <td>0</td>\n",
       "    </tr>\n",
       "    <tr>\n",
       "      <th>9997</th>\n",
       "      <td>709</td>\n",
       "      <td>France</td>\n",
       "      <td>Female</td>\n",
       "      <td>36</td>\n",
       "      <td>0.00</td>\n",
       "      <td>1</td>\n",
       "      <td>1</td>\n",
       "      <td>1</td>\n",
       "    </tr>\n",
       "    <tr>\n",
       "      <th>9998</th>\n",
       "      <td>772</td>\n",
       "      <td>Germany</td>\n",
       "      <td>Male</td>\n",
       "      <td>42</td>\n",
       "      <td>75075.31</td>\n",
       "      <td>2</td>\n",
       "      <td>0</td>\n",
       "      <td>1</td>\n",
       "    </tr>\n",
       "    <tr>\n",
       "      <th>9999</th>\n",
       "      <td>792</td>\n",
       "      <td>France</td>\n",
       "      <td>Female</td>\n",
       "      <td>28</td>\n",
       "      <td>130142.79</td>\n",
       "      <td>1</td>\n",
       "      <td>0</td>\n",
       "      <td>0</td>\n",
       "    </tr>\n",
       "  </tbody>\n",
       "</table>\n",
       "<p>10000 rows × 8 columns</p>\n",
       "</div>"
      ],
      "text/plain": [
       "      CreditScore Geography  Gender  Age    Balance  NumOfProducts  \\\n",
       "0             619    France  Female   42       0.00              1   \n",
       "1             608     Spain  Female   41   83807.86              1   \n",
       "2             502    France  Female   42  159660.80              3   \n",
       "3             699    France  Female   39       0.00              2   \n",
       "4             850     Spain  Female   43  125510.82              1   \n",
       "...           ...       ...     ...  ...        ...            ...   \n",
       "9995          771    France    Male   39       0.00              2   \n",
       "9996          516    France    Male   35   57369.61              1   \n",
       "9997          709    France  Female   36       0.00              1   \n",
       "9998          772   Germany    Male   42   75075.31              2   \n",
       "9999          792    France  Female   28  130142.79              1   \n",
       "\n",
       "      IsActiveMember  Exited  \n",
       "0                  1       1  \n",
       "1                  1       0  \n",
       "2                  0       1  \n",
       "3                  0       0  \n",
       "4                  1       0  \n",
       "...              ...     ...  \n",
       "9995               0       0  \n",
       "9996               1       0  \n",
       "9997               1       1  \n",
       "9998               0       1  \n",
       "9999               0       0  \n",
       "\n",
       "[10000 rows x 8 columns]"
      ]
     },
     "execution_count": 19,
     "metadata": {},
     "output_type": "execute_result"
    }
   ],
   "source": [
    "dataset_pop"
   ]
  },
  {
   "cell_type": "markdown",
   "metadata": {},
   "source": [
    "2. Der Datensatz wird mit dummie-variablen gemappt  "
   ]
  },
  {
   "cell_type": "code",
   "execution_count": 20,
   "metadata": {},
   "outputs": [
    {
     "data": {
      "text/html": [
       "<div>\n",
       "<style scoped>\n",
       "    .dataframe tbody tr th:only-of-type {\n",
       "        vertical-align: middle;\n",
       "    }\n",
       "\n",
       "    .dataframe tbody tr th {\n",
       "        vertical-align: top;\n",
       "    }\n",
       "\n",
       "    .dataframe thead th {\n",
       "        text-align: right;\n",
       "    }\n",
       "</style>\n",
       "<table border=\"1\" class=\"dataframe\">\n",
       "  <thead>\n",
       "    <tr style=\"text-align: right;\">\n",
       "      <th></th>\n",
       "      <th>CreditScore</th>\n",
       "      <th>Age</th>\n",
       "      <th>Balance</th>\n",
       "      <th>NumOfProducts</th>\n",
       "      <th>IsActiveMember</th>\n",
       "      <th>Exited</th>\n",
       "      <th>Geography_Germany</th>\n",
       "      <th>Geography_Spain</th>\n",
       "      <th>Gender_Male</th>\n",
       "    </tr>\n",
       "  </thead>\n",
       "  <tbody>\n",
       "    <tr>\n",
       "      <th>0</th>\n",
       "      <td>619</td>\n",
       "      <td>42</td>\n",
       "      <td>0.00</td>\n",
       "      <td>1</td>\n",
       "      <td>1</td>\n",
       "      <td>1</td>\n",
       "      <td>0</td>\n",
       "      <td>0</td>\n",
       "      <td>0</td>\n",
       "    </tr>\n",
       "    <tr>\n",
       "      <th>1</th>\n",
       "      <td>608</td>\n",
       "      <td>41</td>\n",
       "      <td>83807.86</td>\n",
       "      <td>1</td>\n",
       "      <td>1</td>\n",
       "      <td>0</td>\n",
       "      <td>0</td>\n",
       "      <td>1</td>\n",
       "      <td>0</td>\n",
       "    </tr>\n",
       "    <tr>\n",
       "      <th>2</th>\n",
       "      <td>502</td>\n",
       "      <td>42</td>\n",
       "      <td>159660.80</td>\n",
       "      <td>3</td>\n",
       "      <td>0</td>\n",
       "      <td>1</td>\n",
       "      <td>0</td>\n",
       "      <td>0</td>\n",
       "      <td>0</td>\n",
       "    </tr>\n",
       "    <tr>\n",
       "      <th>3</th>\n",
       "      <td>699</td>\n",
       "      <td>39</td>\n",
       "      <td>0.00</td>\n",
       "      <td>2</td>\n",
       "      <td>0</td>\n",
       "      <td>0</td>\n",
       "      <td>0</td>\n",
       "      <td>0</td>\n",
       "      <td>0</td>\n",
       "    </tr>\n",
       "    <tr>\n",
       "      <th>4</th>\n",
       "      <td>850</td>\n",
       "      <td>43</td>\n",
       "      <td>125510.82</td>\n",
       "      <td>1</td>\n",
       "      <td>1</td>\n",
       "      <td>0</td>\n",
       "      <td>0</td>\n",
       "      <td>1</td>\n",
       "      <td>0</td>\n",
       "    </tr>\n",
       "    <tr>\n",
       "      <th>...</th>\n",
       "      <td>...</td>\n",
       "      <td>...</td>\n",
       "      <td>...</td>\n",
       "      <td>...</td>\n",
       "      <td>...</td>\n",
       "      <td>...</td>\n",
       "      <td>...</td>\n",
       "      <td>...</td>\n",
       "      <td>...</td>\n",
       "    </tr>\n",
       "    <tr>\n",
       "      <th>9995</th>\n",
       "      <td>771</td>\n",
       "      <td>39</td>\n",
       "      <td>0.00</td>\n",
       "      <td>2</td>\n",
       "      <td>0</td>\n",
       "      <td>0</td>\n",
       "      <td>0</td>\n",
       "      <td>0</td>\n",
       "      <td>1</td>\n",
       "    </tr>\n",
       "    <tr>\n",
       "      <th>9996</th>\n",
       "      <td>516</td>\n",
       "      <td>35</td>\n",
       "      <td>57369.61</td>\n",
       "      <td>1</td>\n",
       "      <td>1</td>\n",
       "      <td>0</td>\n",
       "      <td>0</td>\n",
       "      <td>0</td>\n",
       "      <td>1</td>\n",
       "    </tr>\n",
       "    <tr>\n",
       "      <th>9997</th>\n",
       "      <td>709</td>\n",
       "      <td>36</td>\n",
       "      <td>0.00</td>\n",
       "      <td>1</td>\n",
       "      <td>1</td>\n",
       "      <td>1</td>\n",
       "      <td>0</td>\n",
       "      <td>0</td>\n",
       "      <td>0</td>\n",
       "    </tr>\n",
       "    <tr>\n",
       "      <th>9998</th>\n",
       "      <td>772</td>\n",
       "      <td>42</td>\n",
       "      <td>75075.31</td>\n",
       "      <td>2</td>\n",
       "      <td>0</td>\n",
       "      <td>1</td>\n",
       "      <td>1</td>\n",
       "      <td>0</td>\n",
       "      <td>1</td>\n",
       "    </tr>\n",
       "    <tr>\n",
       "      <th>9999</th>\n",
       "      <td>792</td>\n",
       "      <td>28</td>\n",
       "      <td>130142.79</td>\n",
       "      <td>1</td>\n",
       "      <td>0</td>\n",
       "      <td>0</td>\n",
       "      <td>0</td>\n",
       "      <td>0</td>\n",
       "      <td>0</td>\n",
       "    </tr>\n",
       "  </tbody>\n",
       "</table>\n",
       "<p>10000 rows × 9 columns</p>\n",
       "</div>"
      ],
      "text/plain": [
       "      CreditScore  Age    Balance  NumOfProducts  IsActiveMember  Exited  \\\n",
       "0             619   42       0.00              1               1       1   \n",
       "1             608   41   83807.86              1               1       0   \n",
       "2             502   42  159660.80              3               0       1   \n",
       "3             699   39       0.00              2               0       0   \n",
       "4             850   43  125510.82              1               1       0   \n",
       "...           ...  ...        ...            ...             ...     ...   \n",
       "9995          771   39       0.00              2               0       0   \n",
       "9996          516   35   57369.61              1               1       0   \n",
       "9997          709   36       0.00              1               1       1   \n",
       "9998          772   42   75075.31              2               0       1   \n",
       "9999          792   28  130142.79              1               0       0   \n",
       "\n",
       "      Geography_Germany  Geography_Spain  Gender_Male  \n",
       "0                     0                0            0  \n",
       "1                     0                1            0  \n",
       "2                     0                0            0  \n",
       "3                     0                0            0  \n",
       "4                     0                1            0  \n",
       "...                 ...              ...          ...  \n",
       "9995                  0                0            1  \n",
       "9996                  0                0            1  \n",
       "9997                  0                0            0  \n",
       "9998                  1                0            1  \n",
       "9999                  0                0            0  \n",
       "\n",
       "[10000 rows x 9 columns]"
      ]
     },
     "execution_count": 20,
     "metadata": {},
     "output_type": "execute_result"
    }
   ],
   "source": [
    "data_dummies = pd.get_dummies(dataset_pop, drop_first=True)\n",
    "data_dummies"
   ]
  },
  {
   "cell_type": "markdown",
   "metadata": {},
   "source": [
    "## <font color='red'>a) Als erstes Modell trainieren wir eine logistische Regression</font>\n",
    "Wir verwenden zu erst die logistische Regression, das sie für die Vorhersage von blablabla prädestiniert ist.\n",
    "1. Wir importiern das Modell und andere Methoden"
   ]
  },
  {
   "cell_type": "code",
   "execution_count": 21,
   "metadata": {},
   "outputs": [],
   "source": [
    "import numpy as np\n",
    "from sklearn.linear_model import LogisticRegression\n",
    "from sklearn.model_selection import train_test_split"
   ]
  },
  {
   "cell_type": "markdown",
   "metadata": {},
   "source": [
    "2. Wir teilen nun das Dataset in Trainings und Testdaten auf, damit wir dann das Modell auf den Trainingsdaten trainiern können."
   ]
  },
  {
   "cell_type": "code",
   "execution_count": 22,
   "metadata": {},
   "outputs": [],
   "source": [
    "#aufteilen in Trainings und Testdaten\n",
    "x_train, x_test, y_train, y_test = train_test_split(data_dummies.drop('Exited', axis=1), data_dummies['Exited'])"
   ]
  },
  {
   "cell_type": "markdown",
   "metadata": {},
   "source": [
    "3. Nun trainieren wir die Logistische Regression"
   ]
  },
  {
   "cell_type": "code",
   "execution_count": 23,
   "metadata": {},
   "outputs": [
    {
     "data": {
      "text/plain": [
       "LogisticRegression()"
      ]
     },
     "execution_count": 23,
     "metadata": {},
     "output_type": "execute_result"
    }
   ],
   "source": [
    "#das Modell wird mit den Trainingsdaten trainiert\n",
    "LogReg = LogisticRegression(solver='lbfgs')\n",
    "LogReg.fit(x_train, y_train)"
   ]
  },
  {
   "cell_type": "markdown",
   "metadata": {},
   "source": [
    "4. Das Modell ist nun trainiert. Als nächtes können wir uns einen ersten Enblick verschaffen wie gut das Modell vorhersagt (wir testen das Modell mit den Test-Daten)"
   ]
  },
  {
   "cell_type": "code",
   "execution_count": 24,
   "metadata": {},
   "outputs": [
    {
     "data": {
      "text/plain": [
       "0.7804"
      ]
     },
     "execution_count": 24,
     "metadata": {},
     "output_type": "execute_result"
    }
   ],
   "source": [
    "LogReg.score(x_test, y_test)"
   ]
  },
  {
   "cell_type": "markdown",
   "metadata": {},
   "source": [
    "Ein erster Test mit den Testdaten ergibt eine Vorhersagegenauigkeit von ca. 80%. Das ist bereits ein sehr vielversprechender Wert! Weitere Untersuchungen werden im Kapitel Evalutaion folgen."
   ]
  },
  {
   "cell_type": "markdown",
   "metadata": {},
   "source": [
    "## <font color='red'>b) Als zweites Modell trainieren wir ein Neuronales Netz</font>\n",
    "Dem Begriff Neuronales Netz begegnet man überall im Data Science Umfeld. Deswegen haben wir uns entschlossen hier eines zu programmieren um es mit der logistischen Regression zu vergleichen."
   ]
  },
  {
   "cell_type": "code",
   "execution_count": 25,
   "metadata": {},
   "outputs": [
    {
     "name": "stdout",
     "output_type": "stream",
     "text": [
      "tensor([[1., 2., 3., 4., 5.],\n",
      "        [6., 7., 8., 9., 7.]])\n"
     ]
    }
   ],
   "source": [
    "import torch\n",
    "x = torch.Tensor([[1,2,3,4,5], [6,7,8,9,7]])\n",
    "print(x)\n",
    "#y = torch.randn(2,3)\n",
    "#print(y)\n",
    "\n",
    "#print(torch.add(x,y))"
   ]
  },
  {
   "cell_type": "code",
   "execution_count": 26,
   "metadata": {},
   "outputs": [
    {
     "name": "stdout",
     "output_type": "stream",
     "text": [
      "MeinNetz(\n",
      "  (lin1): Linear(in_features=9, out_features=9, bias=True)\n",
      "  (lin2): Linear(in_features=9, out_features=9, bias=True)\n",
      ")\n"
     ]
    },
    {
     "ename": "TypeError",
     "evalue": "Variable data has to be a tensor, but got DataFrame",
     "output_type": "error",
     "traceback": [
      "\u001b[1;31m---------------------------------------------------------------------------\u001b[0m",
      "\u001b[1;31mTypeError\u001b[0m                                 Traceback (most recent call last)",
      "\u001b[1;32m<ipython-input-26-1e57c22c5827>\u001b[0m in \u001b[0;36m<module>\u001b[1;34m\u001b[0m\n\u001b[0;32m     40\u001b[0m \u001b[1;33m\u001b[0m\u001b[0m\n\u001b[0;32m     41\u001b[0m \u001b[1;31m#Tensor der unsere Daten beinhaltet, den wir dann in einer Variable speichern\u001b[0m\u001b[1;33m\u001b[0m\u001b[1;33m\u001b[0m\u001b[1;33m\u001b[0m\u001b[0m\n\u001b[1;32m---> 42\u001b[1;33m \u001b[0minput\u001b[0m \u001b[1;33m=\u001b[0m \u001b[0mVariable\u001b[0m\u001b[1;33m(\u001b[0m\u001b[0mdata_dummies\u001b[0m\u001b[1;33m)\u001b[0m\u001b[1;33m\u001b[0m\u001b[1;33m\u001b[0m\u001b[0m\n\u001b[0m\u001b[0;32m     43\u001b[0m \u001b[1;31m#print(input)\u001b[0m\u001b[1;33m\u001b[0m\u001b[1;33m\u001b[0m\u001b[1;33m\u001b[0m\u001b[0m\n\u001b[0;32m     44\u001b[0m \u001b[1;33m\u001b[0m\u001b[0m\n",
      "\u001b[1;31mTypeError\u001b[0m: Variable data has to be a tensor, but got DataFrame"
     ]
    }
   ],
   "source": [
    "import torch\n",
    "import torch.nn as nn\n",
    "import torch.nn.functional as F\n",
    "from torch.autograd import Variable\n",
    "import torch.optim as optim\n",
    "\n",
    "\n",
    "\n",
    "################### Modell ###################################\n",
    "\n",
    "class MeinNetz(nn.Module):\n",
    "    def __init__(self):\n",
    "        super(MeinNetz, self).__init__()\n",
    "        #erste lineare Schicht\n",
    "        self.lin1 = nn.Linear(9, 9)\n",
    "        #zweite lineare Schicht\n",
    "        self.lin2 = nn.Linear(9, 9)\n",
    "        \n",
    "    #nun wird der Forward pass druchgeführt\n",
    "    def forward(self, x):\n",
    "        #im ersten Layer verwenden wir Relu als Aktivierungsfunktion\n",
    "        x = F.relu(self.lin1(x))\n",
    "        #das zweite Layer hat keine Aktivierungsfunktion\n",
    "        x = self.lin2(x)\n",
    "        return x\n",
    "    \n",
    "    def num_flat_features(self, x):\n",
    "        #wir verwenden nur eine Einheit (lassen die anderen Daten des Trainingsbatches weg)\n",
    "        size = x.size()[1:]\n",
    "        num = 1\n",
    "        for i in size:\n",
    "            num *= i\n",
    "        return num\n",
    "    \n",
    "netz = MeinNetz()\n",
    "print(netz)\n",
    "\n",
    "\n",
    "#################### Input ######################################\n",
    "\n",
    "#Tensor der unsere Daten beinhaltet, den wir dann in einer Variable speichern\n",
    "input = Variable(data_dummies)\n",
    "#print(input)\n",
    "\n",
    "#hier werden die Outputs (Ergebnisse) unseres Netzes berechnet\n",
    "out = netz(input)\n",
    "#print(out)\n",
    "\n",
    "\n",
    "#################### Fehler berechnen ######################################\n",
    "\n",
    "#die Zielvariable festlegen und den Fehler berechnen\n",
    "x = [608,42,159660.80,1,0,1,1,1,0]\n",
    "target = Variable(torch.Tensor([x for _ in range(9)]))\n",
    "criterion = nn.MSELoss()\n",
    "loss = criterion(out, target)\n",
    "#print(loss)\n",
    "\n",
    "#Fehler auf der ersten Stufe\n",
    "#print(loss.grad_fn)\n",
    "\n",
    "#Fehler für ein bestimmtes Layer berechnen\n",
    "#print(loss.grad_fn.next_fuctions[0][0])\n",
    "\n",
    "#gradienten auf 0 zurücksetzen (damit die neuen gradienten übernommen werden können)\n",
    "netz.zero_grad()\n",
    "\n",
    "#backpropagation\n",
    "loss.backward()\n",
    "\n",
    "#optimizer einstellen (wir nehmen hier Stochastic Gradient Descent oder SGD) und Lernrate (lr = 0.01)\n",
    "optimizer = optim.SGD(netz.parameters(), lr=0.01)\n",
    "\n",
    "\n",
    "\n"
   ]
  },
  {
   "cell_type": "code",
   "execution_count": null,
   "metadata": {},
   "outputs": [],
   "source": [
    "import torch\n",
    "import torch.nn as nn\n",
    "import torch.nn.functional as F\n",
    "from torch.autograd import Variable\n",
    "import torch.optim as optim\n",
    "\n",
    "\n",
    "\n",
    "################### Modell ###################################\n",
    "\n",
    "class MeinNetz(nn.Module):\n",
    "    def __init__(self):\n",
    "        super(MeinNetz, self).__init__()\n",
    "        #erste lineare Schicht\n",
    "        self.lin1 = nn.Linear(9, 9)\n",
    "        #zweite lineare Schicht\n",
    "        self.lin2 = nn.Linear(9, 9)\n",
    "        \n",
    "    #nun wird der Forward pass druchgeführt\n",
    "    def forward(self, x):\n",
    "        #im ersten Layer verwenden wir Relu als Aktivierungsfunktion\n",
    "        x = F.relu(self.lin1(x))\n",
    "        #das zweite Layer hat keine Aktivierungsfunktion\n",
    "        x = self.lin2(x)\n",
    "        return x\n",
    "    \n",
    "    def num_flat_features(self, x):\n",
    "        #wir verwenden nur eine Einheit (lassen die anderen Daten des Trainingsbatches weg)\n",
    "        size = x.size()[1:]\n",
    "        num = 1\n",
    "        for i in size:\n",
    "            num *= i\n",
    "        return num\n",
    "    \n",
    "netz = MeinNetz()\n",
    "print(netz)\n",
    "\n",
    "\n",
    "#################### Input ######################################\n",
    "\n",
    "#Tensor der unsere Daten beinhaltet, den wir dann in einer Variable speichern\n",
    "input = Variable(torch.randn(9,9))\n",
    "#print(input)\n",
    "\n",
    "#hier werden die Outputs (Ergebnisse) unseres Netzes berechnet\n",
    "out = netz(input)\n",
    "#print(out)\n",
    "\n",
    "\n",
    "#################### Fehler berechnen ######################################\n",
    "\n",
    "#die Zielvariable festlegen und den Fehler berechnen\n",
    "x = [0,1,1,1,0,1,1,1,0]\n",
    "target = Variable(torch.Tensor([x for _ in range(9)]))\n",
    "criterion = nn.MSELoss()\n",
    "loss = criterion(out, target)\n",
    "#print(loss)\n",
    "\n",
    "#Fehler auf der ersten Stufe\n",
    "#print(loss.grad_fn)\n",
    "\n",
    "#Fehler für ein bestimmtes Layer berechnen\n",
    "#print(loss.grad_fn.next_fuctions[0][0])\n",
    "\n",
    "#gradienten auf 0 zurücksetzen (damit die neuen gradienten übernommen werden können)\n",
    "netz.zero_grad()\n",
    "\n",
    "#backpropagation\n",
    "loss.backward()\n",
    "\n",
    "#optimizer einstellen (wir nehmen hier Stochastic Gradient Descent oder SGD) und Lernrate (lr = 0.01)\n",
    "optimizer = optim.SGD(netz.parameters(), lr=0.01)\n",
    "\n"
   ]
  },
  {
   "cell_type": "markdown",
   "metadata": {},
   "source": [
    "# 4) Evaluation\n",
    "Hier werden nun die erzeugten Modelle genauer untersucht, miteinander verglichen und es wird ein Fazit gezogen."
   ]
  },
  {
   "cell_type": "code",
   "execution_count": null,
   "metadata": {},
   "outputs": [],
   "source": []
  },
  {
   "cell_type": "code",
   "execution_count": null,
   "metadata": {},
   "outputs": [],
   "source": []
  }
 ],
 "metadata": {
  "kernelspec": {
   "display_name": "Python 3",
   "language": "python",
   "name": "python3"
  },
  "language_info": {
   "codemirror_mode": {
    "name": "ipython",
    "version": 3
   },
   "file_extension": ".py",
   "mimetype": "text/x-python",
   "name": "python",
   "nbconvert_exporter": "python",
   "pygments_lexer": "ipython3",
   "version": "3.6.8"
  }
 },
 "nbformat": 4,
 "nbformat_minor": 4
}
