{
 "cells": [
  {
   "cell_type": "markdown",
   "metadata": {},
   "source": [
    "# 1) Data Understanding"
   ]
  },
  {
   "cell_type": "code",
   "execution_count": 3,
   "metadata": {},
   "outputs": [],
   "source": [
    "#Alle notwendigen Libarys für das Data Understanding importieren\n",
    "# Hierzu eignet sich pandas zur Datenanalyse \n",
    "\n",
    "import pandas as pd\n",
    "import seaborn as sns\n",
    "import matplotlib.pyplot as plt"
   ]
  },
  {
   "cell_type": "code",
   "execution_count": 4,
   "metadata": {},
   "outputs": [
    {
     "data": {
      "text/plain": [
       "(10000, 14)"
      ]
     },
     "execution_count": 4,
     "metadata": {},
     "output_type": "execute_result"
    }
   ],
   "source": [
    "#Einlesen des Datensets \n",
    "dataset=pd.read_csv(\"Churn_Modelling.csv\")\n",
    "dataset.shape"
   ]
  },
  {
   "cell_type": "code",
   "execution_count": 5,
   "metadata": {},
   "outputs": [
    {
     "data": {
      "text/html": [
       "<div>\n",
       "<style scoped>\n",
       "    .dataframe tbody tr th:only-of-type {\n",
       "        vertical-align: middle;\n",
       "    }\n",
       "\n",
       "    .dataframe tbody tr th {\n",
       "        vertical-align: top;\n",
       "    }\n",
       "\n",
       "    .dataframe thead th {\n",
       "        text-align: right;\n",
       "    }\n",
       "</style>\n",
       "<table border=\"1\" class=\"dataframe\">\n",
       "  <thead>\n",
       "    <tr style=\"text-align: right;\">\n",
       "      <th></th>\n",
       "      <th>RowNumber</th>\n",
       "      <th>CustomerId</th>\n",
       "      <th>Surname</th>\n",
       "      <th>CreditScore</th>\n",
       "      <th>Geography</th>\n",
       "      <th>Gender</th>\n",
       "      <th>Age</th>\n",
       "      <th>Tenure</th>\n",
       "      <th>Balance</th>\n",
       "      <th>NumOfProducts</th>\n",
       "      <th>HasCrCard</th>\n",
       "      <th>IsActiveMember</th>\n",
       "      <th>EstimatedSalary</th>\n",
       "      <th>Exited</th>\n",
       "    </tr>\n",
       "  </thead>\n",
       "  <tbody>\n",
       "    <tr>\n",
       "      <th>0</th>\n",
       "      <td>1</td>\n",
       "      <td>15634602</td>\n",
       "      <td>Hargrave</td>\n",
       "      <td>619</td>\n",
       "      <td>France</td>\n",
       "      <td>Female</td>\n",
       "      <td>42</td>\n",
       "      <td>2</td>\n",
       "      <td>0.00</td>\n",
       "      <td>1</td>\n",
       "      <td>1</td>\n",
       "      <td>1</td>\n",
       "      <td>101348.88</td>\n",
       "      <td>1</td>\n",
       "    </tr>\n",
       "    <tr>\n",
       "      <th>1</th>\n",
       "      <td>2</td>\n",
       "      <td>15647311</td>\n",
       "      <td>Hill</td>\n",
       "      <td>608</td>\n",
       "      <td>Spain</td>\n",
       "      <td>Female</td>\n",
       "      <td>41</td>\n",
       "      <td>1</td>\n",
       "      <td>83807.86</td>\n",
       "      <td>1</td>\n",
       "      <td>0</td>\n",
       "      <td>1</td>\n",
       "      <td>112542.58</td>\n",
       "      <td>0</td>\n",
       "    </tr>\n",
       "    <tr>\n",
       "      <th>2</th>\n",
       "      <td>3</td>\n",
       "      <td>15619304</td>\n",
       "      <td>Onio</td>\n",
       "      <td>502</td>\n",
       "      <td>France</td>\n",
       "      <td>Female</td>\n",
       "      <td>42</td>\n",
       "      <td>8</td>\n",
       "      <td>159660.80</td>\n",
       "      <td>3</td>\n",
       "      <td>1</td>\n",
       "      <td>0</td>\n",
       "      <td>113931.57</td>\n",
       "      <td>1</td>\n",
       "    </tr>\n",
       "    <tr>\n",
       "      <th>3</th>\n",
       "      <td>4</td>\n",
       "      <td>15701354</td>\n",
       "      <td>Boni</td>\n",
       "      <td>699</td>\n",
       "      <td>France</td>\n",
       "      <td>Female</td>\n",
       "      <td>39</td>\n",
       "      <td>1</td>\n",
       "      <td>0.00</td>\n",
       "      <td>2</td>\n",
       "      <td>0</td>\n",
       "      <td>0</td>\n",
       "      <td>93826.63</td>\n",
       "      <td>0</td>\n",
       "    </tr>\n",
       "    <tr>\n",
       "      <th>4</th>\n",
       "      <td>5</td>\n",
       "      <td>15737888</td>\n",
       "      <td>Mitchell</td>\n",
       "      <td>850</td>\n",
       "      <td>Spain</td>\n",
       "      <td>Female</td>\n",
       "      <td>43</td>\n",
       "      <td>2</td>\n",
       "      <td>125510.82</td>\n",
       "      <td>1</td>\n",
       "      <td>1</td>\n",
       "      <td>1</td>\n",
       "      <td>79084.10</td>\n",
       "      <td>0</td>\n",
       "    </tr>\n",
       "    <tr>\n",
       "      <th>5</th>\n",
       "      <td>6</td>\n",
       "      <td>15574012</td>\n",
       "      <td>Chu</td>\n",
       "      <td>645</td>\n",
       "      <td>Spain</td>\n",
       "      <td>Male</td>\n",
       "      <td>44</td>\n",
       "      <td>8</td>\n",
       "      <td>113755.78</td>\n",
       "      <td>2</td>\n",
       "      <td>1</td>\n",
       "      <td>0</td>\n",
       "      <td>149756.71</td>\n",
       "      <td>1</td>\n",
       "    </tr>\n",
       "    <tr>\n",
       "      <th>6</th>\n",
       "      <td>7</td>\n",
       "      <td>15592531</td>\n",
       "      <td>Bartlett</td>\n",
       "      <td>822</td>\n",
       "      <td>France</td>\n",
       "      <td>Male</td>\n",
       "      <td>50</td>\n",
       "      <td>7</td>\n",
       "      <td>0.00</td>\n",
       "      <td>2</td>\n",
       "      <td>1</td>\n",
       "      <td>1</td>\n",
       "      <td>10062.80</td>\n",
       "      <td>0</td>\n",
       "    </tr>\n",
       "    <tr>\n",
       "      <th>7</th>\n",
       "      <td>8</td>\n",
       "      <td>15656148</td>\n",
       "      <td>Obinna</td>\n",
       "      <td>376</td>\n",
       "      <td>Germany</td>\n",
       "      <td>Female</td>\n",
       "      <td>29</td>\n",
       "      <td>4</td>\n",
       "      <td>115046.74</td>\n",
       "      <td>4</td>\n",
       "      <td>1</td>\n",
       "      <td>0</td>\n",
       "      <td>119346.88</td>\n",
       "      <td>1</td>\n",
       "    </tr>\n",
       "    <tr>\n",
       "      <th>8</th>\n",
       "      <td>9</td>\n",
       "      <td>15792365</td>\n",
       "      <td>He</td>\n",
       "      <td>501</td>\n",
       "      <td>France</td>\n",
       "      <td>Male</td>\n",
       "      <td>44</td>\n",
       "      <td>4</td>\n",
       "      <td>142051.07</td>\n",
       "      <td>2</td>\n",
       "      <td>0</td>\n",
       "      <td>1</td>\n",
       "      <td>74940.50</td>\n",
       "      <td>0</td>\n",
       "    </tr>\n",
       "    <tr>\n",
       "      <th>9</th>\n",
       "      <td>10</td>\n",
       "      <td>15592389</td>\n",
       "      <td>H?</td>\n",
       "      <td>684</td>\n",
       "      <td>France</td>\n",
       "      <td>Male</td>\n",
       "      <td>27</td>\n",
       "      <td>2</td>\n",
       "      <td>134603.88</td>\n",
       "      <td>1</td>\n",
       "      <td>1</td>\n",
       "      <td>1</td>\n",
       "      <td>71725.73</td>\n",
       "      <td>0</td>\n",
       "    </tr>\n",
       "  </tbody>\n",
       "</table>\n",
       "</div>"
      ],
      "text/plain": [
       "   RowNumber  CustomerId   Surname  CreditScore Geography  Gender  Age  \\\n",
       "0          1    15634602  Hargrave          619    France  Female   42   \n",
       "1          2    15647311      Hill          608     Spain  Female   41   \n",
       "2          3    15619304      Onio          502    France  Female   42   \n",
       "3          4    15701354      Boni          699    France  Female   39   \n",
       "4          5    15737888  Mitchell          850     Spain  Female   43   \n",
       "5          6    15574012       Chu          645     Spain    Male   44   \n",
       "6          7    15592531  Bartlett          822    France    Male   50   \n",
       "7          8    15656148    Obinna          376   Germany  Female   29   \n",
       "8          9    15792365        He          501    France    Male   44   \n",
       "9         10    15592389        H?          684    France    Male   27   \n",
       "\n",
       "   Tenure    Balance  NumOfProducts  HasCrCard  IsActiveMember  \\\n",
       "0       2       0.00              1          1               1   \n",
       "1       1   83807.86              1          0               1   \n",
       "2       8  159660.80              3          1               0   \n",
       "3       1       0.00              2          0               0   \n",
       "4       2  125510.82              1          1               1   \n",
       "5       8  113755.78              2          1               0   \n",
       "6       7       0.00              2          1               1   \n",
       "7       4  115046.74              4          1               0   \n",
       "8       4  142051.07              2          0               1   \n",
       "9       2  134603.88              1          1               1   \n",
       "\n",
       "   EstimatedSalary  Exited  \n",
       "0        101348.88       1  \n",
       "1        112542.58       0  \n",
       "2        113931.57       1  \n",
       "3         93826.63       0  \n",
       "4         79084.10       0  \n",
       "5        149756.71       1  \n",
       "6         10062.80       0  \n",
       "7        119346.88       1  \n",
       "8         74940.50       0  \n",
       "9         71725.73       0  "
      ]
     },
     "execution_count": 5,
     "metadata": {},
     "output_type": "execute_result"
    }
   ],
   "source": [
    "#Um einen ersten Einblick zu bekommen, lassen wir uns die ersten 10 Spalten des Datensets ausgeben\n",
    "dataset.head(10)"
   ]
  },
  {
   "cell_type": "code",
   "execution_count": 6,
   "metadata": {
    "jupyter": {
     "source_hidden": true
    }
   },
   "outputs": [
    {
     "data": {
      "text/html": [
       "<div>\n",
       "<style scoped>\n",
       "    .dataframe tbody tr th:only-of-type {\n",
       "        vertical-align: middle;\n",
       "    }\n",
       "\n",
       "    .dataframe tbody tr th {\n",
       "        vertical-align: top;\n",
       "    }\n",
       "\n",
       "    .dataframe thead th {\n",
       "        text-align: right;\n",
       "    }\n",
       "</style>\n",
       "<table border=\"1\" class=\"dataframe\">\n",
       "  <thead>\n",
       "    <tr style=\"text-align: right;\">\n",
       "      <th></th>\n",
       "      <th>RowNumber</th>\n",
       "      <th>CustomerId</th>\n",
       "      <th>Surname</th>\n",
       "      <th>CreditScore</th>\n",
       "      <th>Geography</th>\n",
       "      <th>Gender</th>\n",
       "      <th>Age</th>\n",
       "      <th>Tenure</th>\n",
       "      <th>Balance</th>\n",
       "      <th>NumOfProducts</th>\n",
       "      <th>HasCrCard</th>\n",
       "      <th>IsActiveMember</th>\n",
       "      <th>EstimatedSalary</th>\n",
       "      <th>Exited</th>\n",
       "    </tr>\n",
       "  </thead>\n",
       "  <tbody>\n",
       "    <tr>\n",
       "      <th>9</th>\n",
       "      <td>10</td>\n",
       "      <td>15592389</td>\n",
       "      <td>H?</td>\n",
       "      <td>684</td>\n",
       "      <td>France</td>\n",
       "      <td>Male</td>\n",
       "      <td>27</td>\n",
       "      <td>2</td>\n",
       "      <td>134603.88</td>\n",
       "      <td>1</td>\n",
       "      <td>1</td>\n",
       "      <td>1</td>\n",
       "      <td>71725.73</td>\n",
       "      <td>0</td>\n",
       "    </tr>\n",
       "  </tbody>\n",
       "</table>\n",
       "</div>"
      ],
      "text/plain": [
       "   RowNumber  CustomerId Surname  CreditScore Geography Gender  Age  Tenure  \\\n",
       "9         10    15592389      H?          684    France   Male   27       2   \n",
       "\n",
       "     Balance  NumOfProducts  HasCrCard  IsActiveMember  EstimatedSalary  \\\n",
       "9  134603.88              1          1               1         71725.73   \n",
       "\n",
       "   Exited  \n",
       "9       0  "
      ]
     },
     "execution_count": 6,
     "metadata": {},
     "output_type": "execute_result"
    }
   ],
   "source": [
    "#Man hat bereits im Output von line 17 gesehen, dass der Customer mit der RowNumber 10 den Namen H? hat, was keinen Sinn ergibt\n",
    "#Dem muss man sich später im Step \"Data Cleaning widmen\"\n",
    "dataset[9:10]"
   ]
  },
  {
   "cell_type": "code",
   "execution_count": 7,
   "metadata": {
    "jupyter": {
     "source_hidden": true
    }
   },
   "outputs": [
    {
     "data": {
      "text/plain": [
       "RowNumber          0\n",
       "CustomerId         0\n",
       "Surname            0\n",
       "CreditScore        0\n",
       "Geography          0\n",
       "Gender             0\n",
       "Age                0\n",
       "Tenure             0\n",
       "Balance            0\n",
       "NumOfProducts      0\n",
       "HasCrCard          0\n",
       "IsActiveMember     0\n",
       "EstimatedSalary    0\n",
       "Exited             0\n",
       "dtype: int64"
      ]
     },
     "execution_count": 7,
     "metadata": {},
     "output_type": "execute_result"
    }
   ],
   "source": [
    "#Schauen ob in einer Reihe (column) Werte fehlen\n",
    "dataset.isnull().sum()"
   ]
  },
  {
   "cell_type": "code",
   "execution_count": 6,
   "metadata": {
    "jupyter": {
     "source_hidden": true
    }
   },
   "outputs": [
    {
     "data": {
      "text/plain": [
       "RowNumber          10000\n",
       "CustomerId         10000\n",
       "Surname             2932\n",
       "CreditScore          460\n",
       "Geography              3\n",
       "Gender                 2\n",
       "Age                   70\n",
       "Tenure                11\n",
       "Balance             6382\n",
       "NumOfProducts          4\n",
       "HasCrCard              2\n",
       "IsActiveMember         2\n",
       "EstimatedSalary     9999\n",
       "Exited                 2\n",
       "dtype: int64"
      ]
     },
     "execution_count": 6,
     "metadata": {},
     "output_type": "execute_result"
    }
   ],
   "source": [
    "#Wir lassen uns für das Verständnis die \"unique variables\" jeder Spalte ausgeben\n",
    "dataset.nunique()"
   ]
  },
  {
   "cell_type": "code",
   "execution_count": 7,
   "metadata": {
    "jupyter": {
     "source_hidden": true
    }
   },
   "outputs": [
    {
     "data": {
      "text/plain": [
       "RowNumber            int64\n",
       "CustomerId           int64\n",
       "Surname             object\n",
       "CreditScore          int64\n",
       "Geography           object\n",
       "Gender              object\n",
       "Age                  int64\n",
       "Tenure               int64\n",
       "Balance            float64\n",
       "NumOfProducts        int64\n",
       "HasCrCard            int64\n",
       "IsActiveMember       int64\n",
       "EstimatedSalary    float64\n",
       "Exited               int64\n",
       "dtype: object"
      ]
     },
     "execution_count": 7,
     "metadata": {},
     "output_type": "execute_result"
    }
   ],
   "source": [
    "dataset.dtypes"
   ]
  },
  {
   "cell_type": "markdown",
   "metadata": {},
   "source": [
    "## <font color='red'>Erkentnisse </font>\n",
    "1. Das Datenset hat 10.000 Spalten (Rows) und 14 Reihen (Attributes)\n",
    "2. Im Datenset fehlt in keiner Reihe (column) ein Eintrag\n",
    "3. Es kann sein dass in der Reihe \"Surname\" einige Namen fehlerhaft sind (siehe Output line 25, mit dem Surname \"H?\"). Dem muss man sich später im Schritt \"Data Cleaning widmen\".\n",
    "4. In Output line 7 sehen wir, dass wir Hauptsächlich kategorische Variablen haben und 5 kontinuierliche Variablen \n",
    "\n",
    "## <font color='blue'>Fragen </font>\n",
    "1. Manche Kunden, welche die Bank verlassen haben, (Churn == 1) haben immer noch einen Wert in der Column \"Balance\". Was bedeutet das?\n",
    "2. Was genau bedeutet es ein aktives Mitglied zu sein und wie wird das bewertet? \n",
    "3. Mehr infos über die Column \"NumofProducts\" bzw. über die Produkte selbst würden bessere Informationen bereitstellen."
   ]
  },
  {
   "cell_type": "markdown",
   "metadata": {},
   "source": [
    "># 2) Data Preparation & Preprocessing"
   ]
  },
  {
   "cell_type": "markdown",
   "metadata": {},
   "source": [
    "### a.) Data Visualization & Exploratary Data Analysis"
   ]
  },
  {
   "cell_type": "code",
   "execution_count": 8,
   "metadata": {},
   "outputs": [
    {
     "data": {
      "text/plain": [
       "0    7963\n",
       "1    2037\n",
       "Name: Exited, dtype: int64"
      ]
     },
     "execution_count": 8,
     "metadata": {},
     "output_type": "execute_result"
    }
   ],
   "source": [
    "dataset.Exited.value_counts()"
   ]
  },
  {
   "cell_type": "code",
   "execution_count": 9,
   "metadata": {},
   "outputs": [],
   "source": [
    "data = {\"Attribute\":[\"Verlassen\", \"Nicht Verlassen\"],\n",
    "        \"Anzahl\":[2037,7963]\n",
    "        };\n",
    "\n",
    "df = pd.DataFrame(data=data);"
   ]
  },
  {
   "cell_type": "code",
   "execution_count": 10,
   "metadata": {},
   "outputs": [
    {
     "data": {
      "image/png": "[encoded data removed]",
      "text/plain": [
       "<Figure size 432x288 with 1 Axes>"
      ]
     },
     "metadata": {
      "needs_background": "light"
     },
     "output_type": "display_data"
    }
   ],
   "source": [
    "#Visualisierung der Ausprägungen der Column \"Exited\"\n",
    "df.plot.bar(x=\"Attribute\", y=\"Anzahl\", rot=0, title=\"Churn vs No_Churn\");"
   ]
  },
  {
   "cell_type": "code",
   "execution_count": 10,
   "metadata": {},
   "outputs": [
    {
     "data": {
      "text/plain": [
       "<matplotlib.axes._subplots.AxesSubplot at 0x1e5117137f0>"
      ]
     },
     "execution_count": 10,
     "metadata": {},
     "output_type": "execute_result"
    },
    {
     "data": {
      "image/png": "[encoded data removed]",
      "text/plain": [
       "<Figure size 1440x864 with 4 Axes>"
      ]
     },
     "metadata": {
      "needs_background": "light"
     },
     "output_type": "display_data"
    }
   ],
   "source": [
    "#Visualisierung der kategorischen Variablen Geogrphy, Gender, HasCrCard (Credit Card), IsActiveMember in Abhängigkeit davon, \n",
    "#ob die Personen die Bank verlassen haben oder nicht \n",
    "\n",
    "fig, axarr = plt.subplots(2, 2, figsize=(20, 12))\n",
    "\n",
    "sns.countplot(x='Geography', hue = 'Exited',data = dataset, ax=axarr[0][0])\n",
    "sns.countplot(x='Gender', hue = 'Exited',data = dataset, ax=axarr[0][1])\n",
    "sns.countplot(x='HasCrCard', hue = 'Exited',data = dataset, ax=axarr[1][0])\n",
    "sns.countplot(x='IsActiveMember', hue = 'Exited',data = dataset, ax=axarr[1][1])"
   ]
  },
  {
   "cell_type": "code",
   "execution_count": 11,
   "metadata": {},
   "outputs": [
    {
     "data": {
      "text/plain": [
       "<matplotlib.axes._subplots.AxesSubplot at 0x1e5118c9e80>"
      ]
     },
     "execution_count": 11,
     "metadata": {},
     "output_type": "execute_result"
    },
    {
     "data": {
      "image/png": "[encoded data removed]",
      "text/plain": [
       "<Figure size 1440x864 with 6 Axes>"
      ]
     },
     "metadata": {
      "needs_background": "light"
     },
     "output_type": "display_data"
    }
   ],
   "source": [
    "#Visualisierung der kontunuierlichen Variablen in Abhängigkeit davon, \n",
    "#ob die Personen die Bank verlassen haben oder nicht \n",
    "\n",
    "fig, axarr = plt.subplots(3, 2, figsize=(20, 12))\n",
    "\n",
    "sns.boxplot(y='CreditScore',x = 'Exited', hue = 'Exited',data = dataset, ax=axarr[0][0])\n",
    "sns.boxplot(y='Age',x = 'Exited', hue = 'Exited',data = dataset , ax=axarr[0][1])\n",
    "sns.boxplot(y='Tenure',x = 'Exited', hue = 'Exited',data = dataset, ax=axarr[1][0])\n",
    "sns.boxplot(y='Balance',x = 'Exited', hue = 'Exited',data = dataset, ax=axarr[1][1])\n",
    "sns.boxplot(y='NumOfProducts',x = 'Exited', hue = 'Exited',data = dataset, ax=axarr[2][0])\n",
    "sns.boxplot(y='EstimatedSalary',x = 'Exited', hue = 'Exited',data = dataset, ax=axarr[2][1])"
   ]
  },
  {
   "cell_type": "markdown",
   "metadata": {},
   "source": [
    "## <font color='red'>Erste Erkentnisse </font>\n",
    "1. Man kann anhand Output line 28 an der Bar Chart erkennen, dass c.a. 20% aller erfassten Kunden im Datenset die Bank verlassen haben\n",
    "2. Das Dataset ist <b>imbalanced</b> zugunsten der Ausprägung \"Exited\" == 0 (Kunde hat die Bank nicht verlassen). Es herrscht ein Verhältnis von fast 4:1 für diese Ausprägung. Um später nicht den Klassifikator damit zu beeinflussen, muss man später für ein <b>Balanced Dataset</b> sorgen.\n",
    "\n",
    "\n",
    "## <font color='red'>Erkentnisse aus den Kategorischen Variablen </font>\n",
    "1. Ein Großteil der Erfassten Kunden kommt aus Frankreich und Deutsche Kunden verlassen die Bank am wahrscheinlichsten (in Relation)\n",
    "2. Frauen verlassen diese Bank häufiger als Männer.\n",
    "3. Ein Großteil der Kunden, die die Bank verlassen haben, haben/ hatten eine Kreditkarte. Allerdings ist das Churn-Verhältnis zu den Kunden ohne Kreditkarte ähnlich.\n",
    "4. Mitglieder, welche als nicht aktive Mitglieder gekennzeichnet wurden, haben eine höhere \"Churn-Rate\", wie aktive Member. Allerdings fällt auf, dass die Gesamtanzahl inaktiver Member ziemlich hoch ist.\n",
    "\n",
    "\n",
    "## <font color='red'>Erkentnisse aus den kontinuerlichen Variablen </font>\n",
    "1. Die Columns \"CreditScore\", \"Number of Products\" & \"EstimatedSalary\" also die Kreditwürdigkeit, Anzahl der Bankprodukte & das Geschätzte Gehalt haben auf den ersten Blick keine signifikante Auswirkung darauf, ob ein Kunde die Bank verlässt oder nicht.\n",
    "2. Ältere Kunden verlassen häufiger/ eher die Bank als Jüngere Kunden. Das lässt sich vermutlich auf die unterschiedlichen Ansprüche im Service zurückführen. Die Bank sollte hier eventuell ihre Strategie mit verschiedenen Altersgruppen überdenken.\n",
    "3. Tenure = Zeit die mit der Bank verbracht wurde als Kunde. Generell kann man keinen signifikanten Einfluss dieser Column auf die Variable Exited == 1 feststellen. Es fällt auf, dass Kunden welche (sehr) lange, oder (sehr) wenig Zeit mit der Bank verbracht haben eher die Bank verlassen.\n",
    "4. Kunden mit mehr Bankguthaben (Balance) verlassen eher die Bank\n"
   ]
  },
  {
   "cell_type": "markdown",
   "metadata": {},
   "source": [
    "### b.) Generelles Feature Engineering & Data Cleaning"
   ]
  },
  {
   "cell_type": "markdown",
   "metadata": {},
   "source": [
    "Die Columns <b>Row Number, Customer ID, Surname</b> sind für uns nicht relevant, da sie keinen Einfluss darauf haben, ob ein Kunde kündigt oder nicht. Deshalb entfernen wir diese aus dem Datenset."
   ]
  },
  {
   "cell_type": "code",
   "execution_count": 15,
   "metadata": {},
   "outputs": [],
   "source": [
    "data = dataset.drop([\"RowNumber\",\"CustomerId\",\"Surname\"], axis=1)"
   ]
  },
  {
   "cell_type": "markdown",
   "metadata": {},
   "source": [
    "Bevor wir die Columns \"CreditScore\", \"Number of Products\" & \"EstimatedSalary\" komplett entfernen, weil wir sie bei den Erkenntnissen als nicht signifikant empfinden, schauen wir uns diese \n",
    "Columns nochmal genauer an. Im nächsten Schritt prüfen wir alle kategorischen und kontinuierlichen Variablen auf Signifikanz. Dafür verwenden wir für die kategorischen Variablen den\n",
    "<b>Chi Squared Test</b> und für die kontinuierlichen Variablen den <b>T-Test</b>"
   ]
  },
  {
   "cell_type": "code",
   "execution_count": 16,
   "metadata": {},
   "outputs": [],
   "source": [
    "#aufteilen der Daten in kontinuierlich und kategorisch \n",
    "\n",
    "categorical_var = ['Geography', 'Gender', 'HasCrCard', 'IsActiveMember']\n",
    "continious_var = ['CreditScore', 'Age', 'Tenure', 'Balance', 'NumOfProducts', 'EstimatedSalary']"
   ]
  },
  {
   "cell_type": "code",
   "execution_count": 15,
   "metadata": {
    "jupyter": {
     "source_hidden": true
    }
   },
   "outputs": [
    {
     "name": "stdout",
     "output_type": "stream",
     "text": [
      "Geography is IMPORTANT for Prediction\n",
      "3.830317605354266e-66\n",
      "Gender is IMPORTANT for Prediction\n",
      "2.2482100097131755e-26\n",
      "HasCrCard is NOT an important predictor. (Discard HasCrCard from model)\n",
      "0.49237236141554686\n",
      "IsActiveMember is IMPORTANT for Prediction\n",
      "8.785858269303703e-55\n"
     ]
    }
   ],
   "source": [
    "#chisquare test für kategorische Daten um unrelevante variablen/ features zu finden\n",
    "import scipy.stats as stats\n",
    "from scipy.stats import chi2_contingency\n",
    "\n",
    "class ChiSquare:\n",
    "    def __init__(self, dataframe):\n",
    "        self.df = dataframe\n",
    "        self.p = None #P-Value\n",
    "        self.chi2 = None #Chi Test Statistic\n",
    "        self.dof = None\n",
    "        \n",
    "        self.dfObserved = None\n",
    "        self.dfExpected = None\n",
    "        \n",
    "    def _print_chisquare_result(self, colX, alpha):\n",
    "        result = \"\"\n",
    "        if self.p<alpha:\n",
    "            result=\"{0} is IMPORTANT for Prediction\".format(colX)\n",
    "        else:\n",
    "            result=\"{0} is NOT an important predictor. (Discard {0} from model)\".format(colX)\n",
    "\n",
    "        print(result)\n",
    "        \n",
    "    def TestIndependence(self,colX,colY, alpha=0.05):\n",
    "        X = self.df[colX].astype(str)\n",
    "        Y = self.df[colY].astype(str)\n",
    "        \n",
    "        self.dfObserved = pd.crosstab(Y,X) \n",
    "        chi2, p, dof, expected = stats.chi2_contingency(self.dfObserved.values)\n",
    "        self.p = p\n",
    "        self.chi2 = chi2\n",
    "        self.dof = dof \n",
    "        \n",
    "        self.dfExpected = pd.DataFrame(expected, columns=self.dfObserved.columns, index = self.dfObserved.index)\n",
    "        \n",
    "        self._print_chisquare_result(colX,alpha)\n",
    "\n",
    "df = data\n",
    "#Initialize ChiSquare Class\n",
    "cT = ChiSquare(df)\n",
    "\n",
    "#Feature Selection\n",
    "for var in categorical_var:\n",
    "    cT.TestIndependence(colX=var,colY=\"Exited\" ) \n",
    "    print(cT.p)"
   ]
  },
  {
   "cell_type": "code",
   "execution_count": 16,
   "metadata": {
    "jupyter": {
     "source_hidden": true
    }
   },
   "outputs": [
    {
     "name": "stdout",
     "output_type": "stream",
     "text": [
      "CreditScore\n",
      "Ttest_indResult(statistic=2.634660543657579, pvalue=0.008464728991832877)\n",
      "Age\n",
      "Ttest_indResult(statistic=-30.41919720440679, pvalue=4.7127272656641046e-179)\n",
      "Tenure\n",
      "Ttest_indResult(statistic=1.384328819131246, pvalue=0.16635698992884443)\n",
      "Balance\n",
      "Ttest_indResult(statistic=-12.47128032005069, pvalue=6.318663518527793e-35)\n",
      "NumOfProducts\n",
      "Ttest_indResult(statistic=3.701997887883855, pvalue=0.00021858494460549394)\n",
      "EstimatedSalary\n",
      "Ttest_indResult(statistic=-1.203368319658624, pvalue=0.22892461305145803)\n"
     ]
    }
   ],
   "source": [
    "from sklearn.feature_selection import SelectKBest\n",
    "from scipy.stats import ttest_ind\n",
    "\n",
    "t_stat = []\n",
    "for var in continious_var:\n",
    "    var_no_churn = data[var][data[\"Exited\"] == 0]\n",
    "    var_yes_churn = data[var][data[\"Exited\"] == 1]\n",
    "    t_value = ttest_ind(var_no_churn, var_yes_churn, equal_var=False)\n",
    "    print(var)\n",
    "    print(t_value)\n",
    "    #t_stat.append(t_value)"
   ]
  },
  {
   "cell_type": "markdown",
   "metadata": {},
   "source": [
    "## <font color='red'>Erkentnisse aus dem Generellen Feature-Engineering </font>\n",
    "1. Aus den kategorischen Variablen sind die Colums <b>\"Geogrpahy\", \"Gender\" und \"IsActiveMember\"</b> für den weiteren Verlauf wichtig.\n",
    "2. Die Column \"HasCrCard\" (Ob der Kunde eine Kreditkarte besitzt) wird vom Chi-Squared Test als nicht signifikant wichtig betrachtet.\n",
    "3. Aus den kontinuierlichen Variablen sind die Colums <b>\"CreditScore\", \"Age\", \"Balance\", \"NumOfProducts\"</b> für den weiteren Verlauf wichtig.\n",
    "4. Die Columns \"Tenure\" (Zugehörigkeit zur Bank in Jahren) und \"EstimatedSalary\" (Geschätztes Gehalt) sind laut des T-Tests nicht relevant.\n"
   ]
  },
  {
   "cell_type": "code",
   "execution_count": 17,
   "metadata": {},
   "outputs": [],
   "source": [
    "# p-value>0.05 nicht relevant, 0-Hypothese kann abgelehnt werden aufgrund zu hoher Fehleranfälligkeit "
   ]
  },
  {
   "cell_type": "markdown",
   "metadata": {},
   "source": [
    "# 3) Modeling"
   ]
  },
  {
   "cell_type": "markdown",
   "metadata": {},
   "source": [
    "## <font color='red'>Als nächstes wird der Datensatz für das Training der Modelle vorbereitet </font>\n",
    "1. Die als unrelevant festgestellten Features werden aus dem Datensatz entfernt"
   ]
  },
  {
   "cell_type": "code",
   "execution_count": 18,
   "metadata": {},
   "outputs": [
    {
     "data": {
      "text/plain": [
       "0       101348.88\n",
       "1       112542.58\n",
       "2       113931.57\n",
       "3        93826.63\n",
       "4        79084.10\n",
       "          ...    \n",
       "9995     96270.64\n",
       "9996    101699.77\n",
       "9997     42085.58\n",
       "9998     92888.52\n",
       "9999     38190.78\n",
       "Name: EstimatedSalary, Length: 10000, dtype: float64"
      ]
     },
     "execution_count": 18,
     "metadata": {},
     "output_type": "execute_result"
    }
   ],
   "source": [
    "#dataset_pop basiert auf dem Ursprünglichen Datensatz. Allerdings werden hieraus einige Features ,die als nicht relevant erachtet\n",
    "#werden, enfernt.\n",
    "dataset_pop = dataset\n",
    "\n",
    "#Row Number wird entfernt, da diese Zeile nichts relevantes enthält\n",
    "dataset_pop.pop(\"RowNumber\")\n",
    "\n",
    "#CustomerId wird enfernt, da sie eine zufällig erzeugte Nummer ist und deshalb keine relevanz für unser Model besitzt\n",
    "dataset_pop.pop(\"CustomerId\")\n",
    "\n",
    "#Surname wird entfernt, da der Vorname sich nicht für dummie-variablen eignet und sehr wahrscheinlich keinen Einfluss auf das\n",
    "#Ergebnis des Models hat.\n",
    "dataset_pop.pop(\"Surname\")\n",
    "\n",
    "#der Chi-Squared Test hat ergeben, dass HasCrCard nicht signifikant ist, deshalb wird das Feature entfernt\n",
    "dataset_pop.pop(\"HasCrCard\")\n",
    "\n",
    "#der T-Test hat ergeben, dass Tenure nicht signifikant ist, deshalb wird das Feature entfernt\n",
    "dataset_pop.pop(\"Tenure\")\n",
    "\n",
    "#der T-Test hat ergeben, dass EstimatedSalary nicht signifikant ist, deshalb wird das Feature entfernt\n",
    "dataset_pop.pop(\"EstimatedSalary\")"
   ]
  },
  {
   "cell_type": "code",
   "execution_count": 19,
   "metadata": {},
   "outputs": [
    {
     "data": {
      "text/html": [
       "<div>\n",
       "<style scoped>\n",
       "    .dataframe tbody tr th:only-of-type {\n",
       "        vertical-align: middle;\n",
       "    }\n",
       "\n",
       "    .dataframe tbody tr th {\n",
       "        vertical-align: top;\n",
       "    }\n",
       "\n",
       "    .dataframe thead th {\n",
       "        text-align: right;\n",
       "    }\n",
       "</style>\n",
       "<table border=\"1\" class=\"dataframe\">\n",
       "  <thead>\n",
       "    <tr style=\"text-align: right;\">\n",
       "      <th></th>\n",
       "      <th>CreditScore</th>\n",
       "      <th>Geography</th>\n",
       "      <th>Gender</th>\n",
       "      <th>Age</th>\n",
       "      <th>Balance</th>\n",
       "      <th>NumOfProducts</th>\n",
       "      <th>IsActiveMember</th>\n",
       "      <th>Exited</th>\n",
       "    </tr>\n",
       "  </thead>\n",
       "  <tbody>\n",
       "    <tr>\n",
       "      <th>0</th>\n",
       "      <td>619</td>\n",
       "      <td>France</td>\n",
       "      <td>Female</td>\n",
       "      <td>42</td>\n",
       "      <td>0.00</td>\n",
       "      <td>1</td>\n",
       "      <td>1</td>\n",
       "      <td>1</td>\n",
       "    </tr>\n",
       "    <tr>\n",
       "      <th>1</th>\n",
       "      <td>608</td>\n",
       "      <td>Spain</td>\n",
       "      <td>Female</td>\n",
       "      <td>41</td>\n",
       "      <td>83807.86</td>\n",
       "      <td>1</td>\n",
       "      <td>1</td>\n",
       "      <td>0</td>\n",
       "    </tr>\n",
       "    <tr>\n",
       "      <th>2</th>\n",
       "      <td>502</td>\n",
       "      <td>France</td>\n",
       "      <td>Female</td>\n",
       "      <td>42</td>\n",
       "      <td>159660.80</td>\n",
       "      <td>3</td>\n",
       "      <td>0</td>\n",
       "      <td>1</td>\n",
       "    </tr>\n",
       "    <tr>\n",
       "      <th>3</th>\n",
       "      <td>699</td>\n",
       "      <td>France</td>\n",
       "      <td>Female</td>\n",
       "      <td>39</td>\n",
       "      <td>0.00</td>\n",
       "      <td>2</td>\n",
       "      <td>0</td>\n",
       "      <td>0</td>\n",
       "    </tr>\n",
       "    <tr>\n",
       "      <th>4</th>\n",
       "      <td>850</td>\n",
       "      <td>Spain</td>\n",
       "      <td>Female</td>\n",
       "      <td>43</td>\n",
       "      <td>125510.82</td>\n",
       "      <td>1</td>\n",
       "      <td>1</td>\n",
       "      <td>0</td>\n",
       "    </tr>\n",
       "    <tr>\n",
       "      <th>...</th>\n",
       "      <td>...</td>\n",
       "      <td>...</td>\n",
       "      <td>...</td>\n",
       "      <td>...</td>\n",
       "      <td>...</td>\n",
       "      <td>...</td>\n",
       "      <td>...</td>\n",
       "      <td>...</td>\n",
       "    </tr>\n",
       "    <tr>\n",
       "      <th>9995</th>\n",
       "      <td>771</td>\n",
       "      <td>France</td>\n",
       "      <td>Male</td>\n",
       "      <td>39</td>\n",
       "      <td>0.00</td>\n",
       "      <td>2</td>\n",
       "      <td>0</td>\n",
       "      <td>0</td>\n",
       "    </tr>\n",
       "    <tr>\n",
       "      <th>9996</th>\n",
       "      <td>516</td>\n",
       "      <td>France</td>\n",
       "      <td>Male</td>\n",
       "      <td>35</td>\n",
       "      <td>57369.61</td>\n",
       "      <td>1</td>\n",
       "      <td>1</td>\n",
       "      <td>0</td>\n",
       "    </tr>\n",
       "    <tr>\n",
       "      <th>9997</th>\n",
       "      <td>709</td>\n",
       "      <td>France</td>\n",
       "      <td>Female</td>\n",
       "      <td>36</td>\n",
       "      <td>0.00</td>\n",
       "      <td>1</td>\n",
       "      <td>1</td>\n",
       "      <td>1</td>\n",
       "    </tr>\n",
       "    <tr>\n",
       "      <th>9998</th>\n",
       "      <td>772</td>\n",
       "      <td>Germany</td>\n",
       "      <td>Male</td>\n",
       "      <td>42</td>\n",
       "      <td>75075.31</td>\n",
       "      <td>2</td>\n",
       "      <td>0</td>\n",
       "      <td>1</td>\n",
       "    </tr>\n",
       "    <tr>\n",
       "      <th>9999</th>\n",
       "      <td>792</td>\n",
       "      <td>France</td>\n",
       "      <td>Female</td>\n",
       "      <td>28</td>\n",
       "      <td>130142.79</td>\n",
       "      <td>1</td>\n",
       "      <td>0</td>\n",
       "      <td>0</td>\n",
       "    </tr>\n",
       "  </tbody>\n",
       "</table>\n",
       "<p>10000 rows × 8 columns</p>\n",
       "</div>"
      ],
      "text/plain": [
       "      CreditScore Geography  Gender  Age    Balance  NumOfProducts  \\\n",
       "0             619    France  Female   42       0.00              1   \n",
       "1             608     Spain  Female   41   83807.86              1   \n",
       "2             502    France  Female   42  159660.80              3   \n",
       "3             699    France  Female   39       0.00              2   \n",
       "4             850     Spain  Female   43  125510.82              1   \n",
       "...           ...       ...     ...  ...        ...            ...   \n",
       "9995          771    France    Male   39       0.00              2   \n",
       "9996          516    France    Male   35   57369.61              1   \n",
       "9997          709    France  Female   36       0.00              1   \n",
       "9998          772   Germany    Male   42   75075.31              2   \n",
       "9999          792    France  Female   28  130142.79              1   \n",
       "\n",
       "      IsActiveMember  Exited  \n",
       "0                  1       1  \n",
       "1                  1       0  \n",
       "2                  0       1  \n",
       "3                  0       0  \n",
       "4                  1       0  \n",
       "...              ...     ...  \n",
       "9995               0       0  \n",
       "9996               1       0  \n",
       "9997               1       1  \n",
       "9998               0       1  \n",
       "9999               0       0  \n",
       "\n",
       "[10000 rows x 8 columns]"
      ]
     },
     "execution_count": 19,
     "metadata": {},
     "output_type": "execute_result"
    }
   ],
   "source": [
    "dataset_pop"
   ]
  },
  {
   "cell_type": "markdown",
   "metadata": {},
   "source": [
    "2. Der Datensatz wird mit dummie-variablen gemappt  "
   ]
  },
  {
   "cell_type": "code",
   "execution_count": 20,
   "metadata": {},
   "outputs": [
    {
     "data": {
      "text/html": [
       "<div>\n",
       "<style scoped>\n",
       "    .dataframe tbody tr th:only-of-type {\n",
       "        vertical-align: middle;\n",
       "    }\n",
       "\n",
       "    .dataframe tbody tr th {\n",
       "        vertical-align: top;\n",
       "    }\n",
       "\n",
       "    .dataframe thead th {\n",
       "        text-align: right;\n",
       "    }\n",
       "</style>\n",
       "<table border=\"1\" class=\"dataframe\">\n",
       "  <thead>\n",
       "    <tr style=\"text-align: right;\">\n",
       "      <th></th>\n",
       "      <th>CreditScore</th>\n",
       "      <th>Age</th>\n",
       "      <th>Balance</th>\n",
       "      <th>NumOfProducts</th>\n",
       "      <th>IsActiveMember</th>\n",
       "      <th>Exited</th>\n",
       "      <th>Geography_Germany</th>\n",
       "      <th>Geography_Spain</th>\n",
       "      <th>Gender_Male</th>\n",
       "    </tr>\n",
       "  </thead>\n",
       "  <tbody>\n",
       "    <tr>\n",
       "      <th>0</th>\n",
       "      <td>619</td>\n",
       "      <td>42</td>\n",
       "      <td>0.00</td>\n",
       "      <td>1</td>\n",
       "      <td>1</td>\n",
       "      <td>1</td>\n",
       "      <td>0</td>\n",
       "      <td>0</td>\n",
       "      <td>0</td>\n",
       "    </tr>\n",
       "    <tr>\n",
       "      <th>1</th>\n",
       "      <td>608</td>\n",
       "      <td>41</td>\n",
       "      <td>83807.86</td>\n",
       "      <td>1</td>\n",
       "      <td>1</td>\n",
       "      <td>0</td>\n",
       "      <td>0</td>\n",
       "      <td>1</td>\n",
       "      <td>0</td>\n",
       "    </tr>\n",
       "    <tr>\n",
       "      <th>2</th>\n",
       "      <td>502</td>\n",
       "      <td>42</td>\n",
       "      <td>159660.80</td>\n",
       "      <td>3</td>\n",
       "      <td>0</td>\n",
       "      <td>1</td>\n",
       "      <td>0</td>\n",
       "      <td>0</td>\n",
       "      <td>0</td>\n",
       "    </tr>\n",
       "    <tr>\n",
       "      <th>3</th>\n",
       "      <td>699</td>\n",
       "      <td>39</td>\n",
       "      <td>0.00</td>\n",
       "      <td>2</td>\n",
       "      <td>0</td>\n",
       "      <td>0</td>\n",
       "      <td>0</td>\n",
       "      <td>0</td>\n",
       "      <td>0</td>\n",
       "    </tr>\n",
       "    <tr>\n",
       "      <th>4</th>\n",
       "      <td>850</td>\n",
       "      <td>43</td>\n",
       "      <td>125510.82</td>\n",
       "      <td>1</td>\n",
       "      <td>1</td>\n",
       "      <td>0</td>\n",
       "      <td>0</td>\n",
       "      <td>1</td>\n",
       "      <td>0</td>\n",
       "    </tr>\n",
       "    <tr>\n",
       "      <th>...</th>\n",
       "      <td>...</td>\n",
       "      <td>...</td>\n",
       "      <td>...</td>\n",
       "      <td>...</td>\n",
       "      <td>...</td>\n",
       "      <td>...</td>\n",
       "      <td>...</td>\n",
       "      <td>...</td>\n",
       "      <td>...</td>\n",
       "    </tr>\n",
       "    <tr>\n",
       "      <th>9995</th>\n",
       "      <td>771</td>\n",
       "      <td>39</td>\n",
       "      <td>0.00</td>\n",
       "      <td>2</td>\n",
       "      <td>0</td>\n",
       "      <td>0</td>\n",
       "      <td>0</td>\n",
       "      <td>0</td>\n",
       "      <td>1</td>\n",
       "    </tr>\n",
       "    <tr>\n",
       "      <th>9996</th>\n",
       "      <td>516</td>\n",
       "      <td>35</td>\n",
       "      <td>57369.61</td>\n",
       "      <td>1</td>\n",
       "      <td>1</td>\n",
       "      <td>0</td>\n",
       "      <td>0</td>\n",
       "      <td>0</td>\n",
       "      <td>1</td>\n",
       "    </tr>\n",
       "    <tr>\n",
       "      <th>9997</th>\n",
       "      <td>709</td>\n",
       "      <td>36</td>\n",
       "      <td>0.00</td>\n",
       "      <td>1</td>\n",
       "      <td>1</td>\n",
       "      <td>1</td>\n",
       "      <td>0</td>\n",
       "      <td>0</td>\n",
       "      <td>0</td>\n",
       "    </tr>\n",
       "    <tr>\n",
       "      <th>9998</th>\n",
       "      <td>772</td>\n",
       "      <td>42</td>\n",
       "      <td>75075.31</td>\n",
       "      <td>2</td>\n",
       "      <td>0</td>\n",
       "      <td>1</td>\n",
       "      <td>1</td>\n",
       "      <td>0</td>\n",
       "      <td>1</td>\n",
       "    </tr>\n",
       "    <tr>\n",
       "      <th>9999</th>\n",
       "      <td>792</td>\n",
       "      <td>28</td>\n",
       "      <td>130142.79</td>\n",
       "      <td>1</td>\n",
       "      <td>0</td>\n",
       "      <td>0</td>\n",
       "      <td>0</td>\n",
       "      <td>0</td>\n",
       "      <td>0</td>\n",
       "    </tr>\n",
       "  </tbody>\n",
       "</table>\n",
       "<p>10000 rows × 9 columns</p>\n",
       "</div>"
      ],
      "text/plain": [
       "      CreditScore  Age    Balance  NumOfProducts  IsActiveMember  Exited  \\\n",
       "0             619   42       0.00              1               1       1   \n",
       "1             608   41   83807.86              1               1       0   \n",
       "2             502   42  159660.80              3               0       1   \n",
       "3             699   39       0.00              2               0       0   \n",
       "4             850   43  125510.82              1               1       0   \n",
       "...           ...  ...        ...            ...             ...     ...   \n",
       "9995          771   39       0.00              2               0       0   \n",
       "9996          516   35   57369.61              1               1       0   \n",
       "9997          709   36       0.00              1               1       1   \n",
       "9998          772   42   75075.31              2               0       1   \n",
       "9999          792   28  130142.79              1               0       0   \n",
       "\n",
       "      Geography_Germany  Geography_Spain  Gender_Male  \n",
       "0                     0                0            0  \n",
       "1                     0                1            0  \n",
       "2                     0                0            0  \n",
       "3                     0                0            0  \n",
       "4                     0                1            0  \n",
       "...                 ...              ...          ...  \n",
       "9995                  0                0            1  \n",
       "9996                  0                0            1  \n",
       "9997                  0                0            0  \n",
       "9998                  1                0            1  \n",
       "9999                  0                0            0  \n",
       "\n",
       "[10000 rows x 9 columns]"
      ]
     },
     "execution_count": 20,
     "metadata": {},
     "output_type": "execute_result"
    }
   ],
   "source": [
    "data_dummies = pd.get_dummies(dataset_pop, drop_first=True)\n",
    "data_dummies"
   ]
  },
  {
   "cell_type": "markdown",
   "metadata": {},
   "source": [
    "## <font color='red'>a) Als erstes Modell trainieren wir eine logistische Regression</font>\n",
    "Wir verwenden zu erst die logistische Regression, das sie für die Vorhersage von blablabla prädestiniert ist.\n",
    "1. Wir importiern das Modell und andere Methoden"
   ]
  },
  {
   "cell_type": "code",
   "execution_count": 21,
   "metadata": {},
   "outputs": [],
   "source": [
    "import numpy as np\n",
    "from sklearn.linear_model import LogisticRegression\n",
    "from sklearn.model_selection import train_test_split"
   ]
  },
  {
   "cell_type": "markdown",
   "metadata": {},
   "source": [
    "2. Wir teilen nun das Dataset in Trainings und Testdaten auf, damit wir dann das Modell auf den Trainingsdaten trainiern können."
   ]
  },
  {
   "cell_type": "code",
   "execution_count": 22,
   "metadata": {},
   "outputs": [],
   "source": [
    "#aufteilen in Trainings und Testdaten\n",
    "data_LogReg = data_dummies\n",
    "x_train, x_test, y_train, y_test = train_test_split(data_LogReg.drop('Exited', axis=1), data_LogReg['Exited'])"
   ]
  },
  {
   "cell_type": "markdown",
   "metadata": {},
   "source": [
    "3. Nun trainieren wir die Logistische Regression"
   ]
  },
  {
   "cell_type": "code",
   "execution_count": 23,
   "metadata": {},
   "outputs": [
    {
     "data": {
      "text/plain": [
       "LogisticRegression(C=1.0, class_weight=None, dual=False, fit_intercept=True,\n",
       "                   intercept_scaling=1, l1_ratio=None, max_iter=100,\n",
       "                   multi_class='auto', n_jobs=None, penalty='l2',\n",
       "                   random_state=None, solver='lbfgs', tol=0.0001, verbose=0,\n",
       "                   warm_start=False)"
      ]
     },
     "execution_count": 23,
     "metadata": {},
     "output_type": "execute_result"
    }
   ],
   "source": [
    "#das Modell wird mit den Trainingsdaten trainiert\n",
    "LogReg = LogisticRegression(solver='lbfgs')\n",
    "LogReg.fit(x_train, y_train)"
   ]
  },
  {
   "cell_type": "markdown",
   "metadata": {},
   "source": [
    "4. Das Modell ist nun trainiert. Jetzt wollen wir testen, ob wir tatsächlich eine Vorhersage für einen Kunden treffen können."
   ]
  },
  {
   "cell_type": "code",
   "execution_count": 24,
   "metadata": {},
   "outputs": [
    {
     "name": "stdout",
     "output_type": "stream",
     "text": [
      "[0]\n"
     ]
    }
   ],
   "source": [
    "x = np.array([[608, 42, 159660.80, 1, 0, 1, 1, 1]])\n",
    "print(LogReg.predict(x))"
   ]
  },
  {
   "cell_type": "markdown",
   "metadata": {},
   "source": [
    "Tatsächlich können wir nun Vorhersagen, das ein Kunde mit den Inputwerten (608, 42, 159660.80, 1, 0, 1, 1, 1) eher nicht abwandern würde."
   ]
  },
  {
   "cell_type": "code",
   "execution_count": 25,
   "metadata": {},
   "outputs": [
    {
     "name": "stdout",
     "output_type": "stream",
     "text": [
      "[1]\n"
     ]
    }
   ],
   "source": [
    "x = np.array([[200, 42, 159660.80, 1, 0, 1, 1, 1]])\n",
    "print(LogReg.predict(x))"
   ]
  },
  {
   "cell_type": "markdown",
   "metadata": {},
   "source": [
    "Ein Kunde mit den Werten (200, 42, 159660.80, 1, 0, 1, 1, 1) jedoch wird laut unserem Modell wahrscheinlich bald gehen."
   ]
  },
  {
   "cell_type": "markdown",
   "metadata": {},
   "source": [
    "5. Das Modell ist nun in der Lage Vorhersagen zu treffen. Als nächtes können wir uns einen ersten Enblick verschaffen wie gut das Modell vorhersagt (wir testen das Modell mit den Test-Daten)"
   ]
  },
  {
   "cell_type": "code",
   "execution_count": 26,
   "metadata": {},
   "outputs": [
    {
     "data": {
      "text/plain": [
       "0.7832"
      ]
     },
     "execution_count": 26,
     "metadata": {},
     "output_type": "execute_result"
    }
   ],
   "source": [
    "LogReg.score(x_test, y_test)"
   ]
  },
  {
   "cell_type": "markdown",
   "metadata": {},
   "source": [
    "Ein erster Test mit den Testdaten ergibt eine Vorhersagegenauigkeit von ca. 80%. Das ist bereits ein sehr vielversprechender Wert! Weitere Untersuchungen werden im Kapitel Evalutaion folgen."
   ]
  },
  {
   "cell_type": "markdown",
   "metadata": {},
   "source": [
    "## <font color='red'>b) Als zweites Modell trainieren wir ein Neuronales Netz</font>\n",
    "Dem Begriff Neuronales Netz begegnet man überall im Data Science Umfeld. Deswegen haben wir uns entschlossen hier eines zu programmieren um es mit der logistischen Regression zu vergleichen."
   ]
  },
  {
   "cell_type": "code",
   "execution_count": 2,
   "metadata": {},
   "outputs": [
    {
     "ename": "ModuleNotFoundError",
     "evalue": "No module named 'torch'",
     "output_type": "error",
     "traceback": [
      "\u001b[1;31m---------------------------------------------------------------------------\u001b[0m",
      "\u001b[1;31mModuleNotFoundError\u001b[0m                       Traceback (most recent call last)",
      "\u001b[1;32m<ipython-input-2-69cb080d2f51>\u001b[0m in \u001b[0;36m<module>\u001b[1;34m\u001b[0m\n\u001b[1;32m----> 1\u001b[1;33m \u001b[1;32mimport\u001b[0m \u001b[0mtorch\u001b[0m\u001b[1;33m\u001b[0m\u001b[1;33m\u001b[0m\u001b[0m\n\u001b[0m\u001b[0;32m      2\u001b[0m \u001b[0mx\u001b[0m \u001b[1;33m=\u001b[0m \u001b[0mtorch\u001b[0m\u001b[1;33m.\u001b[0m\u001b[0mTensor\u001b[0m\u001b[1;33m(\u001b[0m\u001b[1;33m[\u001b[0m\u001b[1;33m[\u001b[0m\u001b[1;36m1\u001b[0m\u001b[1;33m,\u001b[0m\u001b[1;36m2\u001b[0m\u001b[1;33m,\u001b[0m\u001b[1;36m3\u001b[0m\u001b[1;33m,\u001b[0m\u001b[1;36m4\u001b[0m\u001b[1;33m,\u001b[0m\u001b[1;36m5\u001b[0m\u001b[1;33m]\u001b[0m\u001b[1;33m,\u001b[0m \u001b[1;33m[\u001b[0m\u001b[1;36m6\u001b[0m\u001b[1;33m,\u001b[0m\u001b[1;36m7\u001b[0m\u001b[1;33m,\u001b[0m\u001b[1;36m8\u001b[0m\u001b[1;33m,\u001b[0m\u001b[1;36m9\u001b[0m\u001b[1;33m,\u001b[0m\u001b[1;36m7\u001b[0m\u001b[1;33m]\u001b[0m\u001b[1;33m]\u001b[0m\u001b[1;33m)\u001b[0m\u001b[1;33m\u001b[0m\u001b[1;33m\u001b[0m\u001b[0m\n\u001b[0;32m      3\u001b[0m \u001b[0mprint\u001b[0m\u001b[1;33m(\u001b[0m\u001b[0mx\u001b[0m\u001b[1;33m)\u001b[0m\u001b[1;33m\u001b[0m\u001b[1;33m\u001b[0m\u001b[0m\n\u001b[0;32m      4\u001b[0m \u001b[1;31m#y = torch.randn(2,3)\u001b[0m\u001b[1;33m\u001b[0m\u001b[1;33m\u001b[0m\u001b[1;33m\u001b[0m\u001b[0m\n\u001b[0;32m      5\u001b[0m \u001b[1;31m#print(y)\u001b[0m\u001b[1;33m\u001b[0m\u001b[1;33m\u001b[0m\u001b[1;33m\u001b[0m\u001b[0m\n",
      "\u001b[1;31mModuleNotFoundError\u001b[0m: No module named 'torch'"
     ]
    }
   ],
   "source": [
    "import torch\n",
    "x = torch.Tensor([[1,2,3,4,5], [6,7,8,9,7]])\n",
    "print(x)\n",
    "#y = torch.randn(2,3)\n",
    "#print(y)\n",
    "\n",
    "#print(torch.add(x,y))"
   ]
  },
  {
   "cell_type": "code",
   "execution_count": 4,
   "metadata": {},
   "outputs": [
    {
     "ename": "ModuleNotFoundError",
     "evalue": "No module named 'torch'",
     "output_type": "error",
     "traceback": [
      "\u001b[1;31m---------------------------------------------------------------------------\u001b[0m",
      "\u001b[1;31mModuleNotFoundError\u001b[0m                       Traceback (most recent call last)",
      "\u001b[1;32m<ipython-input-4-f88f069c05e4>\u001b[0m in \u001b[0;36m<module>\u001b[1;34m\u001b[0m\n\u001b[1;32m----> 1\u001b[1;33m \u001b[1;32mimport\u001b[0m \u001b[0mtorch\u001b[0m\u001b[1;33m\u001b[0m\u001b[1;33m\u001b[0m\u001b[0m\n\u001b[0m\u001b[0;32m      2\u001b[0m \u001b[1;32mimport\u001b[0m \u001b[0mtorch\u001b[0m\u001b[1;33m.\u001b[0m\u001b[0mnn\u001b[0m \u001b[1;32mas\u001b[0m \u001b[0mnn\u001b[0m\u001b[1;33m\u001b[0m\u001b[1;33m\u001b[0m\u001b[0m\n\u001b[0;32m      3\u001b[0m \u001b[1;32mimport\u001b[0m \u001b[0mtorch\u001b[0m\u001b[1;33m.\u001b[0m\u001b[0mnn\u001b[0m\u001b[1;33m.\u001b[0m\u001b[0mfunctional\u001b[0m \u001b[1;32mas\u001b[0m \u001b[0mF\u001b[0m\u001b[1;33m\u001b[0m\u001b[1;33m\u001b[0m\u001b[0m\n\u001b[0;32m      4\u001b[0m \u001b[1;32mfrom\u001b[0m \u001b[0mtorch\u001b[0m\u001b[1;33m.\u001b[0m\u001b[0mautograd\u001b[0m \u001b[1;32mimport\u001b[0m \u001b[0mVariable\u001b[0m\u001b[1;33m\u001b[0m\u001b[1;33m\u001b[0m\u001b[0m\n\u001b[0;32m      5\u001b[0m \u001b[1;32mimport\u001b[0m \u001b[0mtorch\u001b[0m\u001b[1;33m.\u001b[0m\u001b[0moptim\u001b[0m \u001b[1;32mas\u001b[0m \u001b[0moptim\u001b[0m\u001b[1;33m\u001b[0m\u001b[1;33m\u001b[0m\u001b[0m\n",
      "\u001b[1;31mModuleNotFoundError\u001b[0m: No module named 'torch'"
     ]
    }
   ],
   "source": [
    "import torch\n",
    "import torch.nn as nn\n",
    "import torch.nn.functional as F\n",
    "from torch.autograd import Variable\n",
    "import torch.optim as optim\n",
    "import pandas as pd\n",
    "\n",
    "\n",
    "\n",
    "# DataFrame von Datensatz erzeugen\n",
    "targets_df = pd.DataFrame(data=data_dummies)\n",
    "targets_df.columns = ['CreditScore', 'Age', 'Balance' , 'NumOfProducts', 'IsActiveMember', 'Exited', 'Geography_Germany', 'Geography_Spain', 'Gender_Male']\n",
    "\n",
    "# tensor vom DataFrame erzeugen\n",
    "torch_tensor = torch.tensor(targets_df['Exited'].values)\n",
    "\n",
    "# output vom tensor\n",
    "print(torch_tensor)\n",
    "\n",
    "\n",
    "\n",
    "################### Modell ###################################\n",
    "\n",
    "class MeinNetz(nn.Module):\n",
    "    def __init__(self):\n",
    "        super(MeinNetz, self).__init__()\n",
    "        #erste lineare Schicht\n",
    "        self.lin1 = nn.Linear(9, 9)\n",
    "        #zweite lineare Schicht\n",
    "        self.lin2 = nn.Linear(9, 9)\n",
    "        \n",
    "    #nun wird der Forward pass druchgeführt\n",
    "    def forward(self, x):\n",
    "        #im ersten Layer verwenden wir Relu als Aktivierungsfunktion\n",
    "        x = F.relu(self.lin1(x))\n",
    "        #das zweite Layer hat keine Aktivierungsfunktion\n",
    "        x = self.lin2(x)\n",
    "        return x\n",
    "    \n",
    "    def num_flat_features(self, x):\n",
    "        #wir verwenden nur eine Einheit (lassen die anderen Daten des Trainingsbatches weg)\n",
    "        size = x.size()[1:]\n",
    "        num = 1\n",
    "        for i in size:\n",
    "            num *= i\n",
    "        return num\n",
    "    \n",
    "netz = MeinNetz()\n",
    "print(netz)\n",
    "\n",
    "\n",
    "#################### Input ######################################\n",
    "\n",
    "#Tensor der unsere Daten beinhaltet, den wir dann in einer Variable speichern\n",
    "input = Variable(torch_tensor)\n",
    "#print(input)\n",
    "\n",
    "#hier werden die Outputs (Ergebnisse) unseres Netzes berechnet\n",
    "out = netz(input)\n",
    "#print(out)\n",
    "\n",
    "\n",
    "#################### Fehler berechnen ######################################\n",
    "\n",
    "#die Zielvariable festlegen und den Fehler berechnen\n",
    "x = [608,42,159660.80,1,0,1,1,1,0]\n",
    "target = Variable(torch.Tensor([x for _ in range(9)]))\n",
    "criterion = nn.MSELoss()\n",
    "loss = criterion(out, target)\n",
    "#print(loss)\n",
    "\n",
    "#Fehler auf der ersten Stufe\n",
    "#print(loss.grad_fn)\n",
    "\n",
    "#Fehler für ein bestimmtes Layer berechnen\n",
    "#print(loss.grad_fn.next_fuctions[0][0])\n",
    "\n",
    "#gradienten auf 0 zurücksetzen (damit die neuen gradienten übernommen werden können)\n",
    "netz.zero_grad()\n",
    "\n",
    "#backpropagation\n",
    "loss.backward()\n",
    "\n",
    "#optimizer einstellen (wir nehmen hier Stochastic Gradient Descent oder SGD) und Lernrate (lr = 0.01)\n",
    "optimizer = optim.SGD(netz.parameters(), lr=0.01)\n",
    "\n",
    "\n",
    "\n"
   ]
  },
  {
   "cell_type": "code",
   "execution_count": 29,
   "metadata": {},
   "outputs": [
    {
     "name": "stdout",
     "output_type": "stream",
     "text": [
      "MeinNetz(\n",
      "  (lin1): Linear(in_features=9, out_features=9, bias=True)\n",
      "  (lin2): Linear(in_features=9, out_features=9, bias=True)\n",
      ")\n",
      "tensor(0.7763, grad_fn=<MseLossBackward>)\n"
     ]
    }
   ],
   "source": [
    "#Ähnliches Coding, nur mit Random Daten zeigt, dass der Input der Daten das Problem ist\n",
    "\n",
    "\n",
    "import torch\n",
    "import torch.nn as nn\n",
    "import torch.nn.functional as F\n",
    "from torch.autograd import Variable\n",
    "import torch.optim as optim\n",
    "\n",
    "\n",
    "\n",
    "################### Modell ###################################\n",
    "\n",
    "class MeinNetz(nn.Module):\n",
    "    def __init__(self):\n",
    "        super(MeinNetz, self).__init__()\n",
    "        #erste lineare Schicht\n",
    "        self.lin1 = nn.Linear(9, 9)\n",
    "        #zweite lineare Schicht\n",
    "        self.lin2 = nn.Linear(9, 9)\n",
    "        \n",
    "    #nun wird der Forward pass druchgeführt\n",
    "    def forward(self, x):\n",
    "        #im ersten Layer verwenden wir Relu als Aktivierungsfunktion\n",
    "        x = F.relu(self.lin1(x))\n",
    "        #das zweite Layer hat keine Aktivierungsfunktion\n",
    "        x = self.lin2(x)\n",
    "        return x\n",
    "    \n",
    "    def num_flat_features(self, x):\n",
    "        #wir verwenden nur eine Einheit (lassen die anderen Daten des Trainingsbatches weg)\n",
    "        size = x.size()[1:]\n",
    "        num = 1\n",
    "        for i in size:\n",
    "            num *= i\n",
    "        return num\n",
    "    \n",
    "netz = MeinNetz()\n",
    "print(netz)\n",
    "\n",
    "\n",
    "#################### Input ######################################\n",
    "\n",
    "#Tensor der unsere Daten beinhaltet, den wir dann in einer Variable speichern\n",
    "input = Variable(torch.randn(9,9))\n",
    "#print(input)\n",
    "\n",
    "#hier werden die Outputs (Ergebnisse) unseres Netzes berechnet\n",
    "out = netz(input)\n",
    "#print(out)\n",
    "\n",
    "\n",
    "#################### Fehler berechnen ######################################\n",
    "\n",
    "#die Zielvariable festlegen und den Fehler berechnen\n",
    "x = [0,1,1,1,0,1,1,1,0]\n",
    "target = Variable(torch.Tensor([x for _ in range(9)]))\n",
    "criterion = nn.MSELoss()\n",
    "loss = criterion(out, target)\n",
    "print(loss)\n",
    "\n",
    "#Fehler auf der ersten Stufe\n",
    "#print(loss.grad_fn)\n",
    "\n",
    "#Fehler für ein bestimmtes Layer berechnen\n",
    "#print(loss.grad_fn.next_fuctions[0][0])\n",
    "\n",
    "#gradienten auf 0 zurücksetzen (damit die neuen gradienten übernommen werden können)\n",
    "netz.zero_grad()\n",
    "\n",
    "#backpropagation\n",
    "loss.backward()\n",
    "\n",
    "#optimizer einstellen (wir nehmen hier Stochastic Gradient Descent oder SGD) und Lernrate (lr = 0.01)\n",
    "optimizer = optim.SGD(netz.parameters(), lr=0.01)\n",
    "\n"
   ]
  },
  {
   "cell_type": "markdown",
   "metadata": {},
   "source": [
    "# 4) Evaluation\n",
    "Hier werden nun die erzeugten Modelle genauer untersucht, miteinander verglichen und es wird ein Fazit gezogen."
   ]
  },
  {
   "cell_type": "markdown",
   "metadata": {},
   "source": [
    "## <font color='red'>a) Evaluierung der Logistischen Regression</font>\n",
    "\n",
    "Im vorherigen Kapitel haben wir eine logistische Regression trainiert, die tatsächlich aus Inputwerten eine Vorhersage treffen kann. Das ist bereits ein kleiner Erfolg. Allerdings müssen wir zuerst überprüfen, wie die Werte des Modells zustande kommen und wie gut es tatsächlich vorhersagt.\n",
    "\n",
    "\n",
    "1. Wir lassen uns Kennzahlen erzeugen anhand derer man erkennen kann wie das Modell performt"
   ]
  },
  {
   "cell_type": "markdown",
   "metadata": {},
   "source": [
    "Als erstes möchten wir wissen welche Features relevant sind."
   ]
  },
  {
   "cell_type": "code",
   "execution_count": 36,
   "metadata": {},
   "outputs": [
    {
     "name": "stdout",
     "output_type": "stream",
     "text": [
      "Feature: 0, Score: -0.00513\n",
      "Feature: 1, Score: 0.04162\n",
      "Feature: 2, Score: 0.00000\n",
      "Feature: 3, Score: -0.00045\n",
      "Feature: 4, Score: -0.00138\n",
      "Feature: 5, Score: 0.00100\n",
      "Feature: 6, Score: -0.00037\n",
      "Feature: 7, Score: -0.00107\n"
     ]
    }
   ],
   "source": [
    "#welches Features sind für unseres Modell am relevantesten\n",
    "importance = LogReg.coef_[0]\n",
    "# summarize feature importance\n",
    "for i,v in enumerate(importance):\n",
    "\tprint('Feature: %0d, Score: %.5f' % (i,v))"
   ]
  },
  {
   "cell_type": "markdown",
   "metadata": {},
   "source": [
    "Das sind die Werte, die uns sagen wie wichtig die einzelnen Features für das Modell sind (die Werte sind der Reihe nach den Features zu zuweisen, also Feature 0 = CreditScore, Feature 1 = Age und so weiter).\n",
    "Beispielsweise scheint \"Age\" ein sehr wichtiges Merkmal zu sein, sowie \"CreditScore\".\n",
    "\n",
    "Als nächstes schauen wir uns an wie gut das Modell vorhersagt. Einen Ersten Einblick lieferte uns hierzu die Funktion .score() die schaut welcher Anteil der Testdaten richtig klassifiziert wird, bzw. was die Accuracy des Modells ist."
   ]
  },
  {
   "cell_type": "code",
   "execution_count": 39,
   "metadata": {},
   "outputs": [
    {
     "data": {
      "text/plain": [
       "0.7832"
      ]
     },
     "execution_count": 39,
     "metadata": {},
     "output_type": "execute_result"
    }
   ],
   "source": [
    "LogReg.score(x_test, y_test)"
   ]
  },
  {
   "cell_type": "markdown",
   "metadata": {},
   "source": [
    "Diese Accuracy ist grundsätzlich auch erstmal nicht schlecht. Allerdings sagt sie uns wenig darüber, wie gut unser Modell tatsächlich klassifiziert. Da wir bereits in der Datensatzanalyse darauf aufmerksam geworden sind, das der Datensatz imbalanced ist, ist also ein besonderer Fokus darauf zu legen wie das Modell tatsächlich auf seine Vorhersagen kommt. Eine Confusion Matrix kann hier gute Einblicke geben."
   ]
  },
  {
   "cell_type": "code",
   "execution_count": 41,
   "metadata": {},
   "outputs": [
    {
     "name": "stdout",
     "output_type": "stream",
     "text": [
      "Confusion matrix, without normalization\n",
      "[[1926   46]\n",
      " [ 496   32]]\n",
      "Normalized confusion matrix\n",
      "[[0.98 0.02]\n",
      " [0.94 0.06]]\n"
     ]
    },
    {
     "data": {
      "image/png": "[encoded data removed]",
      "text/plain": [
       "<Figure size 432x288 with 2 Axes>"
      ]
     },
     "metadata": {
      "needs_background": "light"
     },
     "output_type": "display_data"
    },
    {
     "data": {
      "image/png": "[encoded data removed]",
      "text/plain": [
       "<Figure size 432x288 with 2 Axes>"
      ]
     },
     "metadata": {
      "needs_background": "light"
     },
     "output_type": "display_data"
    }
   ],
   "source": [
    "import numpy as np\n",
    "import matplotlib.pyplot as plt\n",
    "\n",
    "from sklearn import svm, datasets\n",
    "from sklearn.model_selection import train_test_split\n",
    "from sklearn.metrics import plot_confusion_matrix\n",
    "\n",
    "\n",
    "np.set_printoptions(precision=2)\n",
    "\n",
    "#confusion matrixes werden geplottet\n",
    "titles_options = [(\"Confusion matrix, without normalization\", None),\n",
    "                  (\"Normalized confusion matrix\", 'true')]\n",
    "for title, normalize in titles_options:\n",
    "    disp = plot_confusion_matrix(LogReg, x_test, y_test,                                 \n",
    "                                 cmap=plt.cm.Blues,\n",
    "                                 normalize=normalize)\n",
    "    disp.ax_.set_title(title)\n",
    "\n",
    "    print(title)\n",
    "    print(disp.confusion_matrix)\n",
    "\n",
    "plt.show()"
   ]
  },
  {
   "cell_type": "markdown",
   "metadata": {},
   "source": [
    "Und tatsächlich bestätigt sich unser Verdacht, dass das Modell aufgrund des Datensatzes ebenfalls imbalanced klassifiziert. Das Modell klassifiziert von den Kunden die nicht abwandern (also \"0\") ca. 98% korrekt. Allerdings von den Kunden die gegangen sind klassifiziert es lediglich ca. 6,1% richtig. Das ist deutlich zu wenig. Weitere interessante Kennzahlen:"
   ]
  },
  {
   "cell_type": "code",
   "execution_count": 45,
   "metadata": {},
   "outputs": [
    {
     "name": "stdout",
     "output_type": "stream",
     "text": [
      "precision_train 0.36649214659685864\n",
      "precision_test 0.41025641025641024\n",
      "recall_train 0.04638833664678595\n",
      "recall_test 0.06060606060606061\n",
      "accuracy_train 0.792\n",
      "accuracy_test 0.7832\n",
      "f1_train 0.0823529411764706\n",
      "f1_test 0.10561056105610561\n"
     ]
    }
   ],
   "source": [
    "y_hat_train = LogReg.predict(x_train)\n",
    "y_hat_test = LogReg.predict(x_test)\n",
    "from sklearn.metrics import precision_score, recall_score, accuracy_score, f1_score\n",
    "precision_train = precision_score(y_train, y_hat_train)\n",
    "print(\"precision_train\", precision_train)\n",
    "precision_test= precision_score(y_test, y_hat_test)\n",
    "print(\"precision_test\", precision_test)\n",
    "recall_train = recall_score(y_train, y_hat_train)\n",
    "print(\"recall_train\", recall_train)\n",
    "recall_test = recall_score(y_test, y_hat_test)\n",
    "print(\"recall_test\", recall_test)\n",
    "accuracy_train = accuracy_score(y_train, y_hat_train)\n",
    "print(\"accuracy_train\", accuracy_train)\n",
    "accuracy_test = accuracy_score(y_test, y_hat_test)\n",
    "print(\"accuracy_test\", accuracy_test)\n",
    "f1_train = f1_score(y_train, y_hat_train)\n",
    "print(\"f1_train\", f1_train)\n",
    "f1_test = f1_score(y_test, y_hat_test)\n",
    "print(\"f1_test\", f1_test)"
   ]
  },
  {
   "cell_type": "markdown",
   "metadata": {},
   "source": [
    "2. Wie könnten wir das Modell weiter verbessern um seine Performance zu steigern?\n",
    "\n",
    "In unserem Beispiel wäre es vor allem wichtig den Datensatz entsprechend anzupassen, um die Imbalancedness zu beheben oder einen anderen Datensatz zu verwenden. Um den Datensatz anzupassend könnte man zufällig einen Großteil der Kunden die geblieben sind aussortieren, sodass das Verhältnis zwischen Kunden die gegangen sind und Kunden die geblieben sind ca. 50/50 ist. Allerdings würde dies den Datensatz selbstverständlich deutlich reduzieren.\n",
    "\n",
    "Jedoch kann man auch die Logistische Regression noch weiter Anpassen. Durch weitere Insights können weitere Features entfernt werden, um das Modell robuster zu machen. Die folgende Tabelle gibt die entsprechenden Hinweise:"
   ]
  },
  {
   "cell_type": "code",
   "execution_count": 44,
   "metadata": {},
   "outputs": [
    {
     "name": "stdout",
     "output_type": "stream",
     "text": [
      "Optimization terminated successfully.\n",
      "         Current function value: 0.439903\n",
      "         Iterations 6\n"
     ]
    },
    {
     "data": {
      "text/html": [
       "<table class=\"simpletable\">\n",
       "<tr>\n",
       "        <td>Model:</td>              <td>Logit</td>      <td>Pseudo R-squared:</td>    <td>0.130</td>   \n",
       "</tr>\n",
       "<tr>\n",
       "  <td>Dependent Variable:</td>      <td>Exited</td>            <td>AIC:</td>         <td>8814.0560</td> \n",
       "</tr>\n",
       "<tr>\n",
       "         <td>Date:</td>        <td>2021-07-05 16:03</td>       <td>BIC:</td>         <td>8871.7388</td> \n",
       "</tr>\n",
       "<tr>\n",
       "   <td>No. Observations:</td>        <td>10000</td>       <td>Log-Likelihood:</td>    <td>-4399.0</td>  \n",
       "</tr>\n",
       "<tr>\n",
       "       <td>Df Model:</td>              <td>7</td>            <td>LL-Null:</td>        <td>-5054.9</td>  \n",
       "</tr>\n",
       "<tr>\n",
       "     <td>Df Residuals:</td>          <td>9992</td>         <td>LLR p-value:</td>    <td>4.8342e-279</td>\n",
       "</tr>\n",
       "<tr>\n",
       "      <td>Converged:</td>           <td>1.0000</td>           <td>Scale:</td>         <td>1.0000</td>   \n",
       "</tr>\n",
       "<tr>\n",
       "    <td>No. Iterations:</td>        <td>6.0000</td>              <td></td>               <td></td>      \n",
       "</tr>\n",
       "</table>\n",
       "<table class=\"simpletable\">\n",
       "<tr>\n",
       "          <td></td>           <th>Coef.</th>  <th>Std.Err.</th>     <th>z</th>     <th>P>|z|</th> <th>[0.025</th>  <th>0.975]</th> \n",
       "</tr>\n",
       "<tr>\n",
       "  <th>CreditScore</th>       <td>-0.0040</td>  <td>0.0002</td>  <td>-22.2954</td> <td>0.0000</td> <td>-0.0043</td> <td>-0.0036</td>\n",
       "</tr>\n",
       "<tr>\n",
       "  <th>Age</th>               <td>0.0566</td>   <td>0.0023</td>   <td>24.5121</td> <td>0.0000</td> <td>0.0521</td>  <td>0.0612</td> \n",
       "</tr>\n",
       "<tr>\n",
       "  <th>Balance</th>           <td>0.0000</td>   <td>0.0000</td>   <td>1.5246</td>  <td>0.1274</td> <td>-0.0000</td> <td>0.0000</td> \n",
       "</tr>\n",
       "<tr>\n",
       "  <th>NumOfProducts</th>     <td>-0.3678</td>  <td>0.0446</td>   <td>-8.2381</td> <td>0.0000</td> <td>-0.4553</td> <td>-0.2803</td>\n",
       "</tr>\n",
       "<tr>\n",
       "  <th>IsActiveMember</th>    <td>-1.0593</td>  <td>0.0562</td>  <td>-18.8559</td> <td>0.0000</td> <td>-1.1694</td> <td>-0.9492</td>\n",
       "</tr>\n",
       "<tr>\n",
       "  <th>Geography_Germany</th> <td>0.7827</td>   <td>0.0672</td>   <td>11.6470</td> <td>0.0000</td> <td>0.6510</td>  <td>0.9144</td> \n",
       "</tr>\n",
       "<tr>\n",
       "  <th>Geography_Spain</th>   <td>-0.0493</td>  <td>0.0693</td>   <td>-0.7117</td> <td>0.4767</td> <td>-0.1852</td> <td>0.0865</td> \n",
       "</tr>\n",
       "<tr>\n",
       "  <th>Gender_Male</th>       <td>-0.6353</td>  <td>0.0531</td>  <td>-11.9579</td> <td>0.0000</td> <td>-0.7394</td> <td>-0.5312</td>\n",
       "</tr>\n",
       "</table>"
      ],
      "text/plain": [
       "<class 'statsmodels.iolib.summary2.Summary'>\n",
       "\"\"\"\n",
       "                          Results: Logit\n",
       "==================================================================\n",
       "Model:              Logit            Pseudo R-squared: 0.130      \n",
       "Dependent Variable: Exited           AIC:              8814.0560  \n",
       "Date:               2021-07-05 16:03 BIC:              8871.7388  \n",
       "No. Observations:   10000            Log-Likelihood:   -4399.0    \n",
       "Df Model:           7                LL-Null:          -5054.9    \n",
       "Df Residuals:       9992             LLR p-value:      4.8342e-279\n",
       "Converged:          1.0000           Scale:            1.0000     \n",
       "No. Iterations:     6.0000                                        \n",
       "------------------------------------------------------------------\n",
       "                   Coef.  Std.Err.    z     P>|z|   [0.025  0.975]\n",
       "------------------------------------------------------------------\n",
       "CreditScore       -0.0040   0.0002 -22.2954 0.0000 -0.0043 -0.0036\n",
       "Age                0.0566   0.0023  24.5121 0.0000  0.0521  0.0612\n",
       "Balance            0.0000   0.0000   1.5246 0.1274 -0.0000  0.0000\n",
       "NumOfProducts     -0.3678   0.0446  -8.2381 0.0000 -0.4553 -0.2803\n",
       "IsActiveMember    -1.0593   0.0562 -18.8559 0.0000 -1.1694 -0.9492\n",
       "Geography_Germany  0.7827   0.0672  11.6470 0.0000  0.6510  0.9144\n",
       "Geography_Spain   -0.0493   0.0693  -0.7117 0.4767 -0.1852  0.0865\n",
       "Gender_Male       -0.6353   0.0531 -11.9579 0.0000 -0.7394 -0.5312\n",
       "==================================================================\n",
       "\n",
       "\"\"\""
      ]
     },
     "execution_count": 44,
     "metadata": {},
     "output_type": "execute_result"
    }
   ],
   "source": [
    "import statsmodels.api as sm\n",
    "\n",
    "dummies = data_dummies[[\"CreditScore\",\"Age\",\"Balance\",\"NumOfProducts\",\"IsActiveMember\",\"Geography_Germany\",\"Geography_Spain\",\"Gender_Male\"]]\n",
    "zielvariable = data_dummies['Exited']\n",
    "\n",
    "logit_model = sm.Logit(zielvariable,dummies)\n",
    "result = logit_model.fit()\n",
    "result.summary2()"
   ]
  },
  {
   "cell_type": "markdown",
   "metadata": {},
   "source": [
    "Zum Beispiel können Features, die in der Spalte P>|z| einen größeren Wert als 0,05 haben entfernt werden, da extremere Werte (beta = 0) nicht ausgeschlossen werden können und die Nullhypothese damit nicht abgelehnt werden kann.\n",
    "(Also sollten \"Balance\" und \"Geography_Spain\" hier entfernt werden)\n",
    "\n",
    "Außerdem können die Features entfernt werden, deren Intervall in den Spalten \"0.025\" und \"0.975\" einen Vorzeichenwechsel enthält, da auch hier ein Betawert von Null nicht ausgeschlossen werden kann."
   ]
  },
  {
   "cell_type": "markdown",
   "metadata": {},
   "source": [
    "3. Schlussfolgerung\n",
    "\n",
    "Zusammenfassend kann man sagen, dass die Logistische Regression grundsätzlich gut geeignet ist für derartige Vorhersagen, da mit relativ wenig aufwand schnelle Ergebnisse erzielt werden können. Allerdings kann eine imbalancedness im Datensatz das Modell sehr stark in der Qualität seiner Vorhersage behindern."
   ]
  },
  {
   "cell_type": "markdown",
   "metadata": {},
   "source": [
    "## <font color='red'>b) Evaluierung des Neuronalen Netz</font>\n",
    "1. Review der Ergebnisse"
   ]
  },
  {
   "cell_type": "markdown",
   "metadata": {},
   "source": [
    "Bei unserem dem zweiten Model an dem wir uns versucht haben, hatten wir leider mehr Probleme als erwartet. Deshalb ist hier eine weitere Untersuchung des Models zum jetzigen Stand nicht möglich. Die einzigen Werte die wir hier erhielten, sind die Werte, die wir beim zweiten Versuch erhalten haben bei dem wir allerdings random erzeugte Daten verwendet haben. Bei diesem Modell ist also im jetzigen Stand keine Abwanderungsvorhersage möglich.\n",
    "\n",
    "Was aber durchaus möglich ist, ist eine Erörterung der Probleme und eine Schlussfolgerung daraus."
   ]
  },
  {
   "cell_type": "markdown",
   "metadata": {},
   "source": [
    "2. Erörterung der Probleme"
   ]
  },
  {
   "cell_type": "markdown",
   "metadata": {},
   "source": [
    "Während unserem Versuch ein Neuronales Netz aufzusetzen kamen uns zwei hauptsächliche Probleme in den Weg:\n",
    "\n",
    "Erstens der Umfang des Modells. Wenn man allein den Programmieraufwand des unvollständigen Neuronalen Netzes mit dem der logistischen Regression verlgeicht, sticht der Unterschied im Umfang direkt ins Auge.\n",
    "\n",
    "Zweitens die Komplexität des Modells. Die Komplexität in der Programmierung des Neuronalen Netzes ist deutlich erhöht. Während die logistische Regression eine einfache Methode ist, müssen hier in Klassen Layers und andere Dinge definiert werden. Aufgrund dessen sind wir letzendlich daran gescheitert die Daten in das Modell einzulesen."
   ]
  },
  {
   "cell_type": "markdown",
   "metadata": {},
   "source": [
    "3. Schlussfolgerung"
   ]
  },
  {
   "cell_type": "markdown",
   "metadata": {},
   "source": [
    "Grundsätzlich kann man sagen, dass das Neuronale Netz viel mehr individuell anpassbaren Spielraum bietet. Allerdings hat dies einen erheblich höheren Aufwand und erhöhte komplexität zur Folge. Das macht das Modell nicht für jedes Szenario ideal."
   ]
  }
 ],
 "metadata": {
  "kernelspec": {
   "display_name": "Python 3",
   "language": "python",
   "name": "python3"
  },
  "language_info": {
   "codemirror_mode": {
    "name": "ipython",
    "version": 3
   },
   "file_extension": ".py",
   "mimetype": "text/x-python",
   "name": "python",
   "nbconvert_exporter": "python",
   "pygments_lexer": "ipython3",
   "version": "3.6.8"
  }
 },
 "nbformat": 4,
 "nbformat_minor": 4
}
